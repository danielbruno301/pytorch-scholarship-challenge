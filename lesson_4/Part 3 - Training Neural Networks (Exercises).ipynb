{
  "nbformat": 4,
  "nbformat_minor": 0,
  "metadata": {
    "colab": {
      "name": "Part 3 - Training Neural Networks (Exercises).ipynb",
      "version": "0.3.2",
      "provenance": [],
      "toc_visible": true
    },
    "kernelspec": {
      "name": "python3",
      "display_name": "Python 3"
    },
    "accelerator": "GPU"
  },
  "cells": [
    {
      "metadata": {
        "id": "_2ZyDLiU9Qs3",
        "colab_type": "text"
      },
      "cell_type": "markdown",
      "source": [
        "# Training Neural Networks\n",
        "\n",
        "The network we built in the previous part isn't so smart, it doesn't know anything about our handwritten digits. Neural networks with non-linear activations work like universal function approximators. There is some function that maps your input to the output. For example, images of handwritten digits to class probabilities. The power of neural networks is that we can train them to approximate this function, and basically any function given enough data and compute time.\n",
        "\n",
        "<img src=\"https://github.com/danielbruno301/pytorch-scholarship-challenge/blob/master/lesson_4/assets/function_approx.png?raw=1\" width=500px>\n",
        "\n",
        "At first the network is naive, it doesn't know the function mapping the inputs to the outputs. We train the network by showing it examples of real data, then adjusting the network parameters such that it approximates this function.\n",
        "\n",
        "To find these parameters, we need to know how poorly the network is predicting the real outputs. For this we calculate a **loss function** (also called the cost), a measure of our prediction error. For example, the mean squared loss is often used in regression and binary classification problems\n",
        "\n",
        "$$\n",
        "\\large \\ell = \\frac{1}{2n}\\sum_i^n{\\left(y_i - \\hat{y}_i\\right)^2}\n",
        "$$\n",
        "\n",
        "where $n$ is the number of training examples, $y_i$ are the true labels, and $\\hat{y}_i$ are the predicted labels.\n",
        "\n",
        "By minimizing this loss with respect to the network parameters, we can find configurations where the loss is at a minimum and the network is able to predict the correct labels with high accuracy. We find this minimum using a process called **gradient descent**. The gradient is the slope of the loss function and points in the direction of fastest change. To get to the minimum in the least amount of time, we then want to follow the gradient (downwards). You can think of this like descending a mountain by following the steepest slope to the base.\n",
        "\n",
        "<img src='https://github.com/danielbruno301/pytorch-scholarship-challenge/blob/master/lesson_4/assets/gradient_descent.png?raw=1' width=350px>"
      ]
    },
    {
      "metadata": {
        "id": "u34gcP3P9Qs5",
        "colab_type": "text"
      },
      "cell_type": "markdown",
      "source": [
        "## Backpropagation\n",
        "\n",
        "For single layer networks, gradient descent is straightforward to implement. However, it's more complicated for deeper, multilayer neural networks like the one we've built. Complicated enough that it took about 30 years before researchers figured out how to train multilayer networks.\n",
        "\n",
        "Training multilayer networks is done through **backpropagation** which is really just an application of the chain rule from calculus. It's easiest to understand if we convert a two layer network into a graph representation.\n",
        "\n",
        "<img src='https://github.com/danielbruno301/pytorch-scholarship-challenge/blob/master/lesson_4/assets/backprop_diagram.png?raw=1' width=550px>\n",
        "\n",
        "In the forward pass through the network, our data and operations go from bottom to top here. We pass the input $x$ through a linear transformation $L_1$ with weights $W_1$ and biases $b_1$. The output then goes through the sigmoid operation $S$ and another linear transformation $L_2$. Finally we calculate the loss $\\ell$. We use the loss as a measure of how bad the network's predictions are. The goal then is to adjust the weights and biases to minimize the loss.\n",
        "\n",
        "To train the weights with gradient descent, we propagate the gradient of the loss backwards through the network. Each operation has some gradient between the inputs and outputs. As we send the gradients backwards, we multiply the incoming gradient with the gradient for the operation. Mathematically, this is really just calculating the gradient of the loss with respect to the weights using the chain rule.\n",
        "\n",
        "$$\n",
        "\\large \\frac{\\partial \\ell}{\\partial W_1} = \\frac{\\partial L_1}{\\partial W_1} \\frac{\\partial S}{\\partial L_1} \\frac{\\partial L_2}{\\partial S} \\frac{\\partial \\ell}{\\partial L_2}\n",
        "$$\n",
        "\n",
        "**Note:** I'm glossing over a few details here that require some knowledge of vector calculus, but they aren't necessary to understand what's going on.\n",
        "\n",
        "We update our weights using this gradient with some learning rate $\\alpha$. \n",
        "\n",
        "$$\n",
        "\\large W^\\prime_1 = W_1 - \\alpha \\frac{\\partial \\ell}{\\partial W_1}\n",
        "$$\n",
        "\n",
        "The learning rate $\\alpha$ is set such that the weight update steps are small enough that the iterative method settles in a minimum."
      ]
    },
    {
      "metadata": {
        "id": "uoU1bVwH9Qs7",
        "colab_type": "text"
      },
      "cell_type": "markdown",
      "source": [
        "## Losses in PyTorch\n",
        "\n",
        "Let's start by seeing how we calculate the loss with PyTorch. Through the `nn` module, PyTorch provides losses such as the cross-entropy loss (`nn.CrossEntropyLoss`). You'll usually see the loss assigned to `criterion`. As noted in the last part, with a classification problem such as MNIST, we're using the softmax function to predict class probabilities. With a softmax output, you want to use cross-entropy as the loss. To actually calculate the loss, you first define the criterion then pass in the output of your network and the correct labels.\n",
        "\n",
        "Something really important to note here. Looking at [the documentation for `nn.CrossEntropyLoss`](https://pytorch.org/docs/stable/nn.html#torch.nn.CrossEntropyLoss),\n",
        "\n",
        "> This criterion combines `nn.LogSoftmax()` and `nn.NLLLoss()` in one single class.\n",
        ">\n",
        "> The input is expected to contain scores for each class.\n",
        "\n",
        "This means we need to pass in the raw output of our network into the loss, not the output of the softmax function. This raw output is usually called the *logits* or *scores*. We use the logits because softmax gives you probabilities which will often be very close to zero or one but floating-point numbers can't accurately represent values near zero or one ([read more here](https://docs.python.org/3/tutorial/floatingpoint.html)). It's usually best to avoid doing calculations with probabilities, typically we use log-probabilities."
      ]
    },
    {
      "metadata": {
        "id": "I8iLrN7_-dcP",
        "colab_type": "code",
        "colab": {
          "base_uri": "https://localhost:8080/",
          "height": 54
        },
        "outputId": "96eac294-2940-4983-f35e-15c6ee7e7d68"
      },
      "cell_type": "code",
      "source": [
        "# http://pytorch.org/\n",
        "from os.path import exists\n",
        "from wheel.pep425tags import get_abbr_impl, get_impl_ver, get_abi_tag\n",
        "platform = '{}{}-{}'.format(get_abbr_impl(), get_impl_ver(), get_abi_tag())\n",
        "cuda_output = !ldconfig -p|grep cudart.so|sed -e 's/.*\\.\\([0-9]*\\)\\.\\([0-9]*\\)$/cu\\1\\2/'\n",
        "accelerator = cuda_output[0] if exists('/dev/nvidia0') else 'cpu'\n",
        "\n",
        "!pip install -q http://download.pytorch.org/whl/{accelerator}/torch-0.4.1-{platform}-linux_x86_64.whl torchvision"
      ],
      "execution_count": 2,
      "outputs": [
        {
          "output_type": "stream",
          "text": [
            "tcmalloc: large alloc 1073750016 bytes == 0x57dc4000 @  0x7ff5a61612a4 0x591a07 0x5b5d56 0x502e9a 0x506859 0x502209 0x502f3d 0x506859 0x504c28 0x502540 0x502f3d 0x506859 0x504c28 0x502540 0x502f3d 0x506859 0x504c28 0x502540 0x502f3d 0x507641 0x502209 0x502f3d 0x506859 0x504c28 0x502540 0x502f3d 0x507641 0x504c28 0x502540 0x502f3d 0x507641\n"
          ],
          "name": "stdout"
        }
      ]
    },
    {
      "metadata": {
        "id": "jpS8rKml9Qs8",
        "colab_type": "code",
        "colab": {}
      },
      "cell_type": "code",
      "source": [
        "import torch\n",
        "from torch import nn\n",
        "import torch.nn.functional as F\n",
        "from torchvision import datasets, transforms\n",
        "\n",
        "# Define a transform to normalize the data\n",
        "transform = transforms.Compose([transforms.ToTensor(),\n",
        "                                transforms.Normalize((0.5, 0.5, 0.5), (0.5, 0.5, 0.5)),\n",
        "                              ])\n",
        "# Download and load the training data\n",
        "trainset = datasets.MNIST('~/.pytorch/MNIST_data/', download=True, train=True, transform=transform)\n",
        "trainloader = torch.utils.data.DataLoader(trainset, batch_size=64, shuffle=True)"
      ],
      "execution_count": 0,
      "outputs": []
    },
    {
      "metadata": {
        "id": "4tE-2COO9QtD",
        "colab_type": "text"
      },
      "cell_type": "markdown",
      "source": [
        "### Note\n",
        "If you haven't seen `nn.Sequential` yet, please finish the end of the Part 2 notebook."
      ]
    },
    {
      "metadata": {
        "id": "2W2w8jjv9QtG",
        "colab_type": "code",
        "outputId": "70321d1e-c4e1-48b6-f08c-dbeb795f380c",
        "colab": {
          "base_uri": "https://localhost:8080/",
          "height": 2184
        }
      },
      "cell_type": "code",
      "source": [
        "# Build a feed-forward network\n",
        "model = nn.Sequential(nn.Linear(784, 128),\n",
        "                      nn.ReLU(),\n",
        "                      nn.Linear(128, 64),\n",
        "                      nn.ReLU(),\n",
        "                      nn.Linear(64, 10))\n",
        "\n",
        "# Define the loss\n",
        "criterion = nn.CrossEntropyLoss()\n",
        "\n",
        "# Get our data\n",
        "images, labels = next(iter(trainloader))\n",
        "# Flatten images\n",
        "images = images.view(images.shape[0], -1)\n",
        "\n",
        "# Forward pass, get our logits\n",
        "logits = model(images)\n",
        "print(logits)\n",
        "# Calculate the loss with the logits and the labels\n",
        "loss = criterion(logits, labels)\n",
        "\n",
        "print(loss)"
      ],
      "execution_count": 5,
      "outputs": [
        {
          "output_type": "stream",
          "text": [
            "tensor([[ 0.1800,  0.0574,  0.0899,  0.1133,  0.0771,  0.0020, -0.0536, -0.0110,\n",
            "         -0.0124, -0.0243],\n",
            "        [ 0.1199,  0.1278,  0.1290,  0.0886, -0.0907, -0.0838, -0.0485, -0.0528,\n",
            "          0.0118,  0.0288],\n",
            "        [ 0.1850,  0.1735,  0.0062,  0.0129,  0.0339,  0.0047,  0.0444, -0.1242,\n",
            "          0.0096,  0.0180],\n",
            "        [ 0.1362,  0.1119,  0.0409,  0.0957, -0.0246, -0.1818, -0.0376, -0.0169,\n",
            "          0.0171,  0.0001],\n",
            "        [ 0.1242,  0.1005,  0.0938,  0.1250, -0.0471, -0.1419, -0.0685, -0.0364,\n",
            "          0.0498, -0.0213],\n",
            "        [ 0.1783,  0.0921,  0.0565,  0.0472,  0.0216, -0.0538, -0.0241, -0.0375,\n",
            "         -0.0079,  0.0096],\n",
            "        [ 0.1087,  0.1377,  0.1151,  0.1130, -0.0198, -0.1532, -0.0038,  0.0325,\n",
            "          0.0106,  0.0494],\n",
            "        [ 0.1292,  0.1235,  0.1262,  0.1443, -0.0433, -0.0483,  0.0034, -0.0298,\n",
            "         -0.0171,  0.0026],\n",
            "        [ 0.1447,  0.1254,  0.0076,  0.0554, -0.0140, -0.0789,  0.0183, -0.1262,\n",
            "          0.0104,  0.0009],\n",
            "        [ 0.1329,  0.0970,  0.0145,  0.0059, -0.0100, -0.0111,  0.0093, -0.1017,\n",
            "         -0.0013,  0.0311],\n",
            "        [ 0.1761,  0.1139,  0.1261,  0.1205,  0.0262, -0.0721, -0.1067,  0.0691,\n",
            "          0.0166, -0.0324],\n",
            "        [ 0.1390,  0.0458,  0.0425,  0.0472, -0.0145, -0.0441, -0.0072, -0.0944,\n",
            "         -0.0302, -0.0303],\n",
            "        [ 0.1125,  0.0831,  0.0265,  0.0776, -0.0182, -0.1626,  0.0151, -0.0461,\n",
            "         -0.0058,  0.0116],\n",
            "        [ 0.1396,  0.0451,  0.0328,  0.0733,  0.0253, -0.0688, -0.0427, -0.0021,\n",
            "          0.0021, -0.0407],\n",
            "        [ 0.1678,  0.1421,  0.0190,  0.0470, -0.0162, -0.0775, -0.0383, -0.0694,\n",
            "          0.0125, -0.0139],\n",
            "        [ 0.1618,  0.1072,  0.1459,  0.1385,  0.0364, -0.0875, -0.1178,  0.0607,\n",
            "          0.0011, -0.0223],\n",
            "        [ 0.1371,  0.1248, -0.0394,  0.0197, -0.0001, -0.0329,  0.0692, -0.0776,\n",
            "         -0.0613,  0.0320],\n",
            "        [ 0.1217,  0.0460,  0.0078,  0.0985, -0.0508, -0.1641, -0.0298,  0.0286,\n",
            "          0.0524, -0.0325],\n",
            "        [ 0.1667,  0.0880,  0.0488,  0.0829, -0.0340, -0.0140,  0.0576, -0.0766,\n",
            "          0.0118,  0.0364],\n",
            "        [ 0.1306,  0.0538,  0.0150,  0.0678,  0.0082, -0.0588,  0.0234, -0.0600,\n",
            "         -0.0116, -0.0320],\n",
            "        [ 0.2010,  0.0966,  0.1198,  0.1250,  0.0789, -0.0013, -0.0839, -0.0046,\n",
            "         -0.0099, -0.0053],\n",
            "        [ 0.1343,  0.1055,  0.0655,  0.0881, -0.0228, -0.1121, -0.0075, -0.0248,\n",
            "          0.0255, -0.0491],\n",
            "        [ 0.1525,  0.1128, -0.0068,  0.0812,  0.0224, -0.1163, -0.0212, -0.0152,\n",
            "          0.0029, -0.0015],\n",
            "        [ 0.1952,  0.0697,  0.0983,  0.1015, -0.0040, -0.0579, -0.0549, -0.0074,\n",
            "         -0.0175, -0.0055],\n",
            "        [ 0.1418,  0.1262,  0.0491,  0.1253,  0.0087, -0.1151, -0.0531,  0.0096,\n",
            "          0.0292,  0.0227],\n",
            "        [ 0.1218,  0.0976,  0.0098,  0.0380, -0.0263, -0.1503,  0.0037, -0.0723,\n",
            "          0.0236, -0.0316],\n",
            "        [ 0.1552,  0.0957,  0.1140,  0.1127,  0.0075, -0.1022,  0.0056, -0.0118,\n",
            "         -0.0083, -0.0009],\n",
            "        [ 0.1168,  0.1172,  0.0290,  0.0837, -0.0501, -0.1205,  0.0311, -0.0672,\n",
            "          0.0312, -0.0416],\n",
            "        [ 0.1200,  0.1167,  0.0512,  0.0544, -0.0183, -0.1094,  0.0255, -0.0750,\n",
            "          0.0115, -0.0087],\n",
            "        [ 0.1294,  0.1834,  0.0861,  0.1542, -0.0899, -0.0916, -0.0080, -0.0258,\n",
            "         -0.0005, -0.0160],\n",
            "        [ 0.1328,  0.0959,  0.0809,  0.0291, -0.0088, -0.0124, -0.0176, -0.0999,\n",
            "          0.0298, -0.0090],\n",
            "        [ 0.1551,  0.0660,  0.1002,  0.1128,  0.0611, -0.0447, -0.0941,  0.0578,\n",
            "          0.0182, -0.0178],\n",
            "        [ 0.1542,  0.1216,  0.0512,  0.0578, -0.0421, -0.0684, -0.0032, -0.0550,\n",
            "          0.0228,  0.0051],\n",
            "        [ 0.1744,  0.1043,  0.1226,  0.1131,  0.0197,  0.0430, -0.0760, -0.0792,\n",
            "          0.0069, -0.0221],\n",
            "        [ 0.1122,  0.0365,  0.0783,  0.1024, -0.0056, -0.1066, -0.0691,  0.0257,\n",
            "         -0.0396, -0.0055],\n",
            "        [ 0.1154,  0.0138,  0.0602,  0.1031, -0.0542, -0.0787,  0.0476,  0.0348,\n",
            "         -0.0556,  0.0126],\n",
            "        [ 0.1424,  0.0477,  0.0735,  0.0763,  0.0457, -0.0746, -0.0226, -0.0382,\n",
            "         -0.0096,  0.0263],\n",
            "        [ 0.1407,  0.0868,  0.0508,  0.0878,  0.0047, -0.0121,  0.0662, -0.0514,\n",
            "         -0.0252,  0.0226],\n",
            "        [ 0.1271,  0.1749,  0.0697,  0.1047, -0.0670, -0.0647,  0.0086, -0.0494,\n",
            "          0.0054,  0.0104],\n",
            "        [ 0.1458,  0.0820,  0.0222,  0.0700,  0.0267, -0.1137,  0.0165, -0.0389,\n",
            "          0.0374, -0.0084],\n",
            "        [ 0.1782,  0.0708,  0.1410,  0.1713,  0.0213, -0.0695, -0.0817,  0.0255,\n",
            "         -0.0051,  0.0084],\n",
            "        [ 0.0912,  0.0366,  0.0124,  0.0571, -0.0749, -0.0797, -0.0202,  0.0088,\n",
            "          0.0267,  0.0102],\n",
            "        [ 0.1677,  0.0700,  0.1070,  0.1214,  0.0038, -0.0322, -0.0582, -0.0470,\n",
            "          0.0022, -0.0710],\n",
            "        [ 0.1557,  0.1201,  0.1306,  0.1158, -0.0373, -0.0547, -0.0927, -0.0328,\n",
            "         -0.0484, -0.0550],\n",
            "        [ 0.1695,  0.0933,  0.0624,  0.0207,  0.0508, -0.0778, -0.0697,  0.0492,\n",
            "          0.0512, -0.0146],\n",
            "        [ 0.1844,  0.1624,  0.0668,  0.1788, -0.0348, -0.1713, -0.0569, -0.0107,\n",
            "          0.0319, -0.0388],\n",
            "        [ 0.1725,  0.1225,  0.1282,  0.1009,  0.0157, -0.0915, -0.1271, -0.0101,\n",
            "         -0.0062, -0.0038],\n",
            "        [ 0.1715,  0.0853,  0.0400,  0.0554,  0.0113, -0.1382, -0.0622, -0.0513,\n",
            "          0.0249,  0.0520],\n",
            "        [ 0.1350,  0.0964,  0.0341,  0.0532,  0.0443, -0.0467,  0.0455, -0.0044,\n",
            "         -0.0958,  0.0258],\n",
            "        [ 0.0874,  0.0655,  0.1043,  0.1421, -0.0042, -0.1161, -0.0145, -0.0015,\n",
            "         -0.0031, -0.0079],\n",
            "        [ 0.1355,  0.0515,  0.0753,  0.0733, -0.0041, -0.1110, -0.0510,  0.0759,\n",
            "          0.0213, -0.0247],\n",
            "        [ 0.1211,  0.0664,  0.0134,  0.0265, -0.0337, -0.0424,  0.0510, -0.0826,\n",
            "         -0.0155, -0.0119],\n",
            "        [ 0.1645,  0.0531,  0.0733,  0.1091,  0.0199, -0.0204, -0.0510,  0.0083,\n",
            "         -0.0446, -0.0236],\n",
            "        [ 0.1642,  0.0894,  0.0301, -0.0138, -0.0045, -0.0054, -0.0064, -0.1072,\n",
            "         -0.0089,  0.0642],\n",
            "        [ 0.1849,  0.1001,  0.1388,  0.0983,  0.0108, -0.0281, -0.0935, -0.0525,\n",
            "          0.0187, -0.0194],\n",
            "        [ 0.1864,  0.1114,  0.1214,  0.1410,  0.0443, -0.0110, -0.0657, -0.0266,\n",
            "         -0.0212, -0.0327],\n",
            "        [ 0.1451,  0.0824,  0.0884,  0.1070, -0.0160, -0.0664,  0.0133, -0.0650,\n",
            "          0.0173, -0.0061],\n",
            "        [ 0.1125,  0.0568,  0.0288,  0.0553, -0.0789, -0.0636, -0.0376,  0.0083,\n",
            "          0.0394,  0.0146],\n",
            "        [ 0.1777,  0.1674,  0.0362,  0.0025, -0.0272, -0.1163, -0.0673, -0.0384,\n",
            "          0.0190,  0.0553],\n",
            "        [ 0.1587,  0.0994,  0.0419,  0.0039, -0.0096,  0.0256,  0.0611, -0.0697,\n",
            "          0.0013,  0.0060],\n",
            "        [ 0.1116,  0.0798,  0.0652,  0.0847, -0.0540, -0.1307, -0.0527,  0.0030,\n",
            "          0.0635, -0.0417],\n",
            "        [ 0.1833,  0.1001,  0.1396,  0.0726,  0.0318, -0.0746, -0.0865,  0.0495,\n",
            "         -0.0267,  0.0331],\n",
            "        [ 0.1359,  0.0575,  0.0474,  0.0720,  0.0568, -0.0431, -0.0519, -0.0036,\n",
            "          0.0193, -0.0677],\n",
            "        [ 0.1556,  0.0721,  0.0208,  0.0713,  0.0490, -0.1743, -0.0300,  0.0237,\n",
            "         -0.0141,  0.0065]], grad_fn=<ThAddmmBackward>)\n",
            "tensor(2.3145, grad_fn=<NllLossBackward>)\n"
          ],
          "name": "stdout"
        }
      ]
    },
    {
      "metadata": {
        "id": "StbXlooU9QtN",
        "colab_type": "text"
      },
      "cell_type": "markdown",
      "source": [
        "In my experience it's more convenient to build the model with a log-softmax output using `nn.LogSoftmax` or `F.log_softmax` ([documentation](https://pytorch.org/docs/stable/nn.html#torch.nn.LogSoftmax)). Then you can get the actual probabilities by taking the exponential `torch.exp(output)`. With a log-softmax output, you want to use the negative log likelihood loss, `nn.NLLLoss` ([documentation](https://pytorch.org/docs/stable/nn.html#torch.nn.NLLLoss)).\n",
        "\n",
        ">**Exercise:** Build a model that returns the log-softmax as the output and calculate the loss using the negative log likelihood loss. Note that for `nn.LogSoftmax` and `F.log_softmax` you'll need to set the `dim` keyword argument appropriately. `dim=0` calculates softmax across the rows, so each column sums to 1, while `dim=1` calculates across the columns so each row sums to 1. Think about what you want the output to be and choose `dim` appropriately."
      ]
    },
    {
      "metadata": {
        "id": "adcD8QDV9QtP",
        "colab_type": "code",
        "outputId": "3ae93601-ce78-4530-dc07-4d85ebadb0de",
        "colab": {
          "base_uri": "https://localhost:8080/",
          "height": 2167
        }
      },
      "cell_type": "code",
      "source": [
        "# TODO: Build a feed-forward network\n",
        "model = nn.Sequential(nn.Linear(784, 128),\n",
        "                      nn.ReLU(),\n",
        "                      nn.Linear(128, 64),\n",
        "                      nn.ReLU(),\n",
        "                      nn.Linear(64, 10),\n",
        "                      nn.LogSoftmax(dim=1))\n",
        "\n",
        "# TODO: Define the loss\n",
        "criterion = nn.NLLLoss()\n",
        "\n",
        "### Run this to check your work\n",
        "# Get our data\n",
        "images, labels = next(iter(trainloader))\n",
        "# Flatten images\n",
        "images = images.view(images.shape[0], -1)\n",
        "\n",
        "# Forward pass, get our log probabilities\n",
        "log_probs = model(images)\n",
        "print(log_probs)\n",
        "# Calculate the loss with the logits and the labels\n",
        "loss = criterion(log_probs, labels)\n"
      ],
      "execution_count": 6,
      "outputs": [
        {
          "output_type": "stream",
          "text": [
            "tensor([[-2.2445, -2.3224, -2.4584, -2.1117, -2.2800, -2.3514, -2.3906, -2.3088,\n",
            "         -2.3439, -2.2542],\n",
            "        [-2.3071, -2.3083, -2.4698, -2.1213, -2.2213, -2.3110, -2.4104, -2.3827,\n",
            "         -2.3196, -2.2209],\n",
            "        [-2.3097, -2.4403, -2.4600, -2.1382, -2.2220, -2.3638, -2.3006, -2.2865,\n",
            "         -2.3114, -2.2361],\n",
            "        [-2.2934, -2.3150, -2.4471, -2.1271, -2.1621, -2.3775, -2.4107, -2.3788,\n",
            "         -2.3942, -2.1799],\n",
            "        [-2.3014, -2.2963, -2.4481, -2.1198, -2.2501, -2.3830, -2.3738, -2.2781,\n",
            "         -2.3450, -2.2668],\n",
            "        [-2.2477, -2.2713, -2.4795, -2.0926, -2.2416, -2.4124, -2.4404, -2.3434,\n",
            "         -2.3882, -2.1784],\n",
            "        [-2.2596, -2.3496, -2.5134, -2.0897, -2.2147, -2.4106, -2.3017, -2.3041,\n",
            "         -2.3754, -2.2671],\n",
            "        [-2.2805, -2.2048, -2.4809, -2.1646, -2.2511, -2.3315, -2.4289, -2.3544,\n",
            "         -2.3354, -2.2375],\n",
            "        [-2.2997, -2.2841, -2.4840, -2.0766, -2.2047, -2.3839, -2.4129, -2.3054,\n",
            "         -2.3694, -2.2652],\n",
            "        [-2.2495, -2.2569, -2.4462, -2.0597, -2.2242, -2.3986, -2.4832, -2.3723,\n",
            "         -2.3854, -2.2258],\n",
            "        [-2.3338, -2.2187, -2.4782, -2.0967, -2.2020, -2.3270, -2.4681, -2.4393,\n",
            "         -2.3358, -2.2008],\n",
            "        [-2.2504, -2.2698, -2.4166, -2.1862, -2.2427, -2.3914, -2.3797, -2.3827,\n",
            "         -2.3612, -2.1814],\n",
            "        [-2.2222, -2.2812, -2.4271, -2.1727, -2.2614, -2.3753, -2.4085, -2.3581,\n",
            "         -2.3453, -2.2095],\n",
            "        [-2.2699, -2.2996, -2.4466, -2.1414, -2.1821, -2.3712, -2.3364, -2.3571,\n",
            "         -2.3876, -2.2739],\n",
            "        [-2.3134, -2.2840, -2.4847, -2.0916, -2.2430, -2.3124, -2.3785, -2.2938,\n",
            "         -2.4009, -2.2731],\n",
            "        [-2.2448, -2.2743, -2.5055, -2.1890, -2.2908, -2.3966, -2.2927, -2.3071,\n",
            "         -2.3094, -2.2497],\n",
            "        [-2.2742, -2.2776, -2.4300, -2.1122, -2.2352, -2.3947, -2.4076, -2.3399,\n",
            "         -2.3367, -2.2598],\n",
            "        [-2.3118, -2.3511, -2.4299, -2.1429, -2.2041, -2.3248, -2.3752, -2.3296,\n",
            "         -2.3120, -2.2755],\n",
            "        [-2.2689, -2.2201, -2.4847, -2.1157, -2.2316, -2.3500, -2.4164, -2.3820,\n",
            "         -2.3874, -2.2267],\n",
            "        [-2.2495, -2.2525, -2.5029, -2.0607, -2.1791, -2.4156, -2.4140, -2.3691,\n",
            "         -2.3781, -2.2828],\n",
            "        [-2.2430, -2.2832, -2.4496, -2.1150, -2.2622, -2.3542, -2.4311, -2.3469,\n",
            "         -2.3540, -2.2326],\n",
            "        [-2.2478, -2.2293, -2.4379, -2.2047, -2.2749, -2.2815, -2.4188, -2.3067,\n",
            "         -2.3510, -2.2995],\n",
            "        [-2.3182, -2.2979, -2.4388, -2.1385, -2.2433, -2.3613, -2.3015, -2.3259,\n",
            "         -2.3639, -2.2659],\n",
            "        [-2.2641, -2.3625, -2.4326, -2.1100, -2.2323, -2.4403, -2.3300, -2.2905,\n",
            "         -2.3925, -2.2210],\n",
            "        [-2.2549, -2.3199, -2.4854, -2.0672, -2.1812, -2.3685, -2.3936, -2.3814,\n",
            "         -2.3913, -2.2515],\n",
            "        [-2.2747, -2.2566, -2.3968, -2.1499, -2.2901, -2.3919, -2.4379, -2.3294,\n",
            "         -2.3441, -2.1927],\n",
            "        [-2.2787, -2.2919, -2.4331, -2.1749, -2.2444, -2.3049, -2.4288, -2.3477,\n",
            "         -2.3222, -2.2295],\n",
            "        [-2.2625, -2.2951, -2.4539, -2.1887, -2.2589, -2.3656, -2.3423, -2.3363,\n",
            "         -2.3409, -2.2097],\n",
            "        [-2.2887, -2.2870, -2.4540, -2.0705, -2.2061, -2.4269, -2.4282, -2.3261,\n",
            "         -2.3506, -2.2506],\n",
            "        [-2.2762, -2.2743, -2.4769, -2.1399, -2.2125, -2.3870, -2.3975, -2.3720,\n",
            "         -2.3373, -2.2016],\n",
            "        [-2.2198, -2.3066, -2.5548, -2.0038, -2.2034, -2.3737, -2.5017, -2.3527,\n",
            "         -2.2991, -2.3201],\n",
            "        [-2.2609, -2.3188, -2.4195, -2.1739, -2.2481, -2.3700, -2.3557, -2.3124,\n",
            "         -2.3182, -2.2703],\n",
            "        [-2.2823, -2.2968, -2.4858, -2.1117, -2.2194, -2.3587, -2.3326, -2.3829,\n",
            "         -2.2961, -2.3038],\n",
            "        [-2.2820, -2.3977, -2.3780, -2.1537, -2.2077, -2.3749, -2.3415, -2.3513,\n",
            "         -2.3459, -2.2252],\n",
            "        [-2.3068, -2.2494, -2.4830, -2.1030, -2.1574, -2.4194, -2.4248, -2.3501,\n",
            "         -2.4049, -2.2016],\n",
            "        [-2.2288, -2.3035, -2.4957, -2.1888, -2.2469, -2.4067, -2.3577, -2.3068,\n",
            "         -2.2900, -2.2385],\n",
            "        [-2.2780, -2.3145, -2.5270, -2.0924, -2.2384, -2.3424, -2.4340, -2.3374,\n",
            "         -2.2491, -2.2739],\n",
            "        [-2.2408, -2.3011, -2.4429, -2.1143, -2.2001, -2.4036, -2.4059, -2.3949,\n",
            "         -2.3380, -2.2369],\n",
            "        [-2.2839, -2.3393, -2.4579, -2.0754, -2.2860, -2.4166, -2.4056, -2.2576,\n",
            "         -2.3033, -2.2540],\n",
            "        [-2.2675, -2.3316, -2.4524, -2.0577, -2.2012, -2.3281, -2.3983, -2.3723,\n",
            "         -2.3612, -2.3140],\n",
            "        [-2.2595, -2.2768, -2.4641, -2.1469, -2.2579, -2.3847, -2.4162, -2.2943,\n",
            "         -2.3009, -2.2623],\n",
            "        [-2.3032, -2.1831, -2.4276, -2.1946, -2.2481, -2.3738, -2.4922, -2.3967,\n",
            "         -2.3667, -2.1081],\n",
            "        [-2.3129, -2.2813, -2.4604, -2.1300, -2.2059, -2.3370, -2.3580, -2.3016,\n",
            "         -2.4140, -2.2661],\n",
            "        [-2.2637, -2.2906, -2.4202, -2.1178, -2.2394, -2.3980, -2.4072, -2.3751,\n",
            "         -2.3266, -2.2301],\n",
            "        [-2.2822, -2.2274, -2.4391, -2.2060, -2.2553, -2.3262, -2.4225, -2.3821,\n",
            "         -2.3053, -2.2122],\n",
            "        [-2.2938, -2.3061, -2.4757, -2.1171, -2.2545, -2.2934, -2.3790, -2.3076,\n",
            "         -2.3858, -2.2541],\n",
            "        [-2.2841, -2.2718, -2.4068, -2.1495, -2.2431, -2.4017, -2.4147, -2.3149,\n",
            "         -2.3511, -2.2233],\n",
            "        [-2.2759, -2.3027, -2.4479, -2.1157, -2.2053, -2.4064, -2.3577, -2.4000,\n",
            "         -2.3432, -2.2205],\n",
            "        [-2.2625, -2.2918, -2.4539, -2.0964, -2.2302, -2.4328, -2.4110, -2.3693,\n",
            "         -2.3153, -2.2194],\n",
            "        [-2.2738, -2.2688, -2.4347, -2.1909, -2.2717, -2.3679, -2.3655, -2.2972,\n",
            "         -2.3541, -2.2258],\n",
            "        [-2.2490, -2.2919, -2.4652, -2.1095, -2.1893, -2.4038, -2.4182, -2.3918,\n",
            "         -2.3423, -2.2246],\n",
            "        [-2.2226, -2.2964, -2.4068, -2.1555, -2.1994, -2.3941, -2.4133, -2.4184,\n",
            "         -2.3530, -2.2135],\n",
            "        [-2.3335, -2.2665, -2.4604, -2.1133, -2.2288, -2.3500, -2.4040, -2.3400,\n",
            "         -2.3909, -2.1904],\n",
            "        [-2.2960, -2.3036, -2.4855, -2.1567, -2.2451, -2.3223, -2.3769, -2.3799,\n",
            "         -2.2816, -2.2167],\n",
            "        [-2.2238, -2.2523, -2.5654, -2.0809, -2.2298, -2.3576, -2.4704, -2.3213,\n",
            "         -2.3418, -2.2644],\n",
            "        [-2.3256, -2.2979, -2.4489, -2.0941, -2.2300, -2.3970, -2.4047, -2.3420,\n",
            "         -2.3008, -2.2340],\n",
            "        [-2.2503, -2.3658, -2.4235, -2.1584, -2.2636, -2.3640, -2.3423, -2.2790,\n",
            "         -2.3598, -2.2474],\n",
            "        [-2.2030, -2.2461, -2.4336, -2.0894, -2.2746, -2.3262, -2.4142, -2.4493,\n",
            "         -2.3998, -2.2519],\n",
            "        [-2.2386, -2.3295, -2.4641, -2.1829, -2.2148, -2.3617, -2.3500, -2.3722,\n",
            "         -2.3406, -2.2081],\n",
            "        [-2.2695, -2.2764, -2.4558, -2.0725, -2.2301, -2.4114, -2.4406, -2.3515,\n",
            "         -2.3522, -2.2292],\n",
            "        [-2.3376, -2.2798, -2.4710, -2.1022, -2.2042, -2.4002, -2.4181, -2.2903,\n",
            "         -2.3937, -2.1912],\n",
            "        [-2.2837, -2.3578, -2.4976, -2.0923, -2.2315, -2.4253, -2.3378, -2.3525,\n",
            "         -2.2516, -2.2533],\n",
            "        [-2.2625, -2.3736, -2.4446, -2.0911, -2.2159, -2.4175, -2.3705, -2.2890,\n",
            "         -2.2747, -2.3370],\n",
            "        [-2.2823, -2.3111, -2.4865, -2.1476, -2.2372, -2.3670, -2.3404, -2.2920,\n",
            "         -2.3203, -2.2758]], grad_fn=<LogSoftmaxBackward>)\n"
          ],
          "name": "stdout"
        }
      ]
    },
    {
      "metadata": {
        "id": "4fF-u7rf9QtW",
        "colab_type": "text"
      },
      "cell_type": "markdown",
      "source": [
        "## Autograd\n",
        "\n",
        "Now that we know how to calculate a loss, how do we use it to perform backpropagation? Torch provides a module, `autograd`, for automatically calculating the gradients of tensors. We can use it to calculate the gradients of all our parameters with respect to the loss. Autograd works by keeping track of operations performed on tensors, then going backwards through those operations, calculating gradients along the way. To make sure PyTorch keeps track of operations on a tensor and calculates the gradients, you need to set `requires_grad = True` on a tensor. You can do this at creation with the `requires_grad` keyword, or at any time with `x.requires_grad_(True)`.\n",
        "\n",
        "You can turn off gradients for a block of code with the `torch.no_grad()` content:\n",
        "```python\n",
        "x = torch.zeros(1, requires_grad=True)\n",
        ">>> with torch.no_grad():\n",
        "...     y = x * 2\n",
        ">>> y.requires_grad\n",
        "False\n",
        "```\n",
        "\n",
        "Also, you can turn on or off gradients altogether with `torch.set_grad_enabled(True|False)`.\n",
        "\n",
        "The gradients are computed with respect to some variable `z` with `z.backward()`. This does a backward pass through the operations that created `z`."
      ]
    },
    {
      "metadata": {
        "id": "ik3RqvwJ9QtZ",
        "colab_type": "code",
        "outputId": "1e9b49ee-9258-4d3d-8696-73013325e592",
        "colab": {
          "base_uri": "https://localhost:8080/",
          "height": 50
        }
      },
      "cell_type": "code",
      "source": [
        "x = torch.randn(2,2, requires_grad=True)\n",
        "print(x)"
      ],
      "execution_count": 7,
      "outputs": [
        {
          "output_type": "stream",
          "text": [
            "tensor([[-0.3736,  1.1697],\n",
            "        [ 0.1253,  1.0054]], requires_grad=True)\n"
          ],
          "name": "stdout"
        }
      ]
    },
    {
      "metadata": {
        "id": "afFB2aYA9Qte",
        "colab_type": "code",
        "outputId": "a2980468-79cd-42ea-ee07-b14a7507ccdc",
        "colab": {
          "base_uri": "https://localhost:8080/",
          "height": 50
        }
      },
      "cell_type": "code",
      "source": [
        "y = x**2\n",
        "print(y)"
      ],
      "execution_count": 8,
      "outputs": [
        {
          "output_type": "stream",
          "text": [
            "tensor([[0.1396, 1.3682],\n",
            "        [0.0157, 1.0109]], grad_fn=<PowBackward0>)\n"
          ],
          "name": "stdout"
        }
      ]
    },
    {
      "metadata": {
        "id": "YnufLLQQ9Qtl",
        "colab_type": "text"
      },
      "cell_type": "markdown",
      "source": [
        "Below we can see the operation that created `y`, a power operation `PowBackward0`."
      ]
    },
    {
      "metadata": {
        "id": "83VrHOgj9Qtp",
        "colab_type": "code",
        "outputId": "8598edc8-2915-4615-8930-fcf0832ecd73",
        "colab": {
          "base_uri": "https://localhost:8080/",
          "height": 34
        }
      },
      "cell_type": "code",
      "source": [
        "## grad_fn shows the function that generated this variable\n",
        "print(y.grad_fn)"
      ],
      "execution_count": 9,
      "outputs": [
        {
          "output_type": "stream",
          "text": [
            "<PowBackward0 object at 0x7f9c9bda6f98>\n"
          ],
          "name": "stdout"
        }
      ]
    },
    {
      "metadata": {
        "id": "1EY02qEp9Qtx",
        "colab_type": "text"
      },
      "cell_type": "markdown",
      "source": [
        "The autgrad module keeps track of these operations and knows how to calculate the gradient for each one. In this way, it's able to calculate the gradients for a chain of operations, with respect to any one tensor. Let's reduce the tensor `y` to a scalar value, the mean."
      ]
    },
    {
      "metadata": {
        "id": "8L74qyZZ9Qt7",
        "colab_type": "code",
        "outputId": "e5b78151-ed60-4e35-b051-5d4f15c5dd9b",
        "colab": {
          "base_uri": "https://localhost:8080/",
          "height": 34
        }
      },
      "cell_type": "code",
      "source": [
        "z = y.mean()\n",
        "print(z)"
      ],
      "execution_count": 10,
      "outputs": [
        {
          "output_type": "stream",
          "text": [
            "tensor(0.6336, grad_fn=<MeanBackward1>)\n"
          ],
          "name": "stdout"
        }
      ]
    },
    {
      "metadata": {
        "id": "4wvISBo69QuC",
        "colab_type": "text"
      },
      "cell_type": "markdown",
      "source": [
        "You can check the gradients for `x` and `y` but they are empty currently."
      ]
    },
    {
      "metadata": {
        "id": "VMQGYbh39QuE",
        "colab_type": "code",
        "outputId": "c0f556f1-40e6-45a5-a0ea-378948ec909a",
        "colab": {
          "base_uri": "https://localhost:8080/",
          "height": 34
        }
      },
      "cell_type": "code",
      "source": [
        "print(x.grad)"
      ],
      "execution_count": 11,
      "outputs": [
        {
          "output_type": "stream",
          "text": [
            "None\n"
          ],
          "name": "stdout"
        }
      ]
    },
    {
      "metadata": {
        "id": "HBzetG319QuL",
        "colab_type": "text"
      },
      "cell_type": "markdown",
      "source": [
        "To calculate the gradients, you need to run the `.backward` method on a Variable, `z` for example. This will calculate the gradient for `z` with respect to `x`\n",
        "\n",
        "$$\n",
        "\\frac{\\partial z}{\\partial x} = \\frac{\\partial}{\\partial x}\\left[\\frac{1}{n}\\sum_i^n x_i^2\\right] = \\frac{x}{2}\n",
        "$$"
      ]
    },
    {
      "metadata": {
        "id": "4x_1CW6c9QuN",
        "colab_type": "code",
        "outputId": "eac90a94-e380-4c63-dfc2-a704615a7a26",
        "colab": {
          "base_uri": "https://localhost:8080/",
          "height": 118
        }
      },
      "cell_type": "code",
      "source": [
        "z.backward()\n",
        "print(x)\n",
        "print(x.grad)\n",
        "print(x/2)"
      ],
      "execution_count": 12,
      "outputs": [
        {
          "output_type": "stream",
          "text": [
            "tensor([[-0.3736,  1.1697],\n",
            "        [ 0.1253,  1.0054]], requires_grad=True)\n",
            "tensor([[-0.1868,  0.5849],\n",
            "        [ 0.0626,  0.5027]])\n",
            "tensor([[-0.1868,  0.5849],\n",
            "        [ 0.0626,  0.5027]], grad_fn=<DivBackward0>)\n"
          ],
          "name": "stdout"
        }
      ]
    },
    {
      "metadata": {
        "id": "OtoGFl6H9QuS",
        "colab_type": "text"
      },
      "cell_type": "markdown",
      "source": [
        "These gradients calculations are particularly useful for neural networks. For training we need the gradients of the weights with respect to the cost. With PyTorch, we run data forward through the network to calculate the loss, then, go backwards to calculate the gradients with respect to the loss. Once we have the gradients we can make a gradient descent step. "
      ]
    },
    {
      "metadata": {
        "id": "wwACd7Fv9QuX",
        "colab_type": "text"
      },
      "cell_type": "markdown",
      "source": [
        "## Loss and Autograd together\n",
        "\n",
        "When we create a network with PyTorch, all of the parameters are initialized with `requires_grad = True`. This means that when we calculate the loss and call `loss.backward()`, the gradients for the parameters are calculated. These gradients are used to update the weights with gradient descent. Below you can see an example of calculating the gradients using a backwards pass."
      ]
    },
    {
      "metadata": {
        "id": "ebRKv29X9Qua",
        "colab_type": "code",
        "colab": {}
      },
      "cell_type": "code",
      "source": [
        "# Build a feed-forward network\n",
        "model = nn.Sequential(nn.Linear(784, 128),\n",
        "                      nn.ReLU(),\n",
        "                      nn.Linear(128, 64),\n",
        "                      nn.ReLU(),\n",
        "                      nn.Linear(64, 10),\n",
        "                      nn.LogSoftmax(dim=1))\n",
        "\n",
        "criterion = nn.NLLLoss()\n",
        "images, labels = next(iter(trainloader))\n",
        "images = images.view(images.shape[0], -1)\n",
        "\n",
        "logits = model(images)\n",
        "loss = criterion(logits, labels)"
      ],
      "execution_count": 0,
      "outputs": []
    },
    {
      "metadata": {
        "id": "Aj06opbj9Quh",
        "colab_type": "code",
        "outputId": "9fd179d1-4167-46dd-e9b4-3d2a14158041",
        "colab": {
          "base_uri": "https://localhost:8080/",
          "height": 185
        }
      },
      "cell_type": "code",
      "source": [
        "print('Before backward pass: \\n', model[0].weight.grad)\n",
        "\n",
        "loss.backward()\n",
        "\n",
        "print('After backward pass: \\n', model[0].weight.grad)"
      ],
      "execution_count": 14,
      "outputs": [
        {
          "output_type": "stream",
          "text": [
            "Before backward pass: \n",
            " None\n",
            "After backward pass: \n",
            " tensor([[-0.0012, -0.0012, -0.0012,  ..., -0.0012, -0.0012, -0.0012],\n",
            "        [ 0.0006,  0.0006,  0.0006,  ...,  0.0006,  0.0006,  0.0006],\n",
            "        [-0.0001, -0.0001, -0.0001,  ..., -0.0001, -0.0001, -0.0001],\n",
            "        ...,\n",
            "        [ 0.0008,  0.0008,  0.0008,  ...,  0.0008,  0.0008,  0.0008],\n",
            "        [-0.0020, -0.0020, -0.0020,  ..., -0.0020, -0.0020, -0.0020],\n",
            "        [ 0.0049,  0.0049,  0.0049,  ...,  0.0049,  0.0049,  0.0049]])\n"
          ],
          "name": "stdout"
        }
      ]
    },
    {
      "metadata": {
        "id": "ehe-3wZD9Quv",
        "colab_type": "text"
      },
      "cell_type": "markdown",
      "source": [
        "## Training the network!\n",
        "\n",
        "There's one last piece we need to start training, an optimizer that we'll use to update the weights with the gradients. We get these from PyTorch's [`optim` package](https://pytorch.org/docs/stable/optim.html). For example we can use stochastic gradient descent with `optim.SGD`. You can see how to define an optimizer below."
      ]
    },
    {
      "metadata": {
        "id": "DIEdN_f69Qux",
        "colab_type": "code",
        "colab": {}
      },
      "cell_type": "code",
      "source": [
        "from torch import optim\n",
        "\n",
        "# Optimizers require the parameters to optimize and a learning rate\n",
        "optimizer = optim.SGD(model.parameters(), lr=0.01)"
      ],
      "execution_count": 0,
      "outputs": []
    },
    {
      "metadata": {
        "id": "T1d3LamR9Qu5",
        "colab_type": "text"
      },
      "cell_type": "markdown",
      "source": [
        "Now we know how to use all the individual parts so it's time to see how they work together. Let's consider just one learning step before looping through all the data. The general process with PyTorch:\n",
        "\n",
        "* Make a forward pass through the network \n",
        "* Use the network output to calculate the loss\n",
        "* Perform a backward pass through the network with `loss.backward()` to calculate the gradients\n",
        "* Take a step with the optimizer to update the weights\n",
        "\n",
        "Below I'll go through one training step and print out the weights and gradients so you can see how it changes. Note that I have a line of code `optimizer.zero_grad()`. When you do multiple backwards passes with the same parameters, the gradients are accumulated. This means that you need to zero the gradients on each training pass or you'll retain gradients from previous training batches."
      ]
    },
    {
      "metadata": {
        "id": "RrxBS43j9Qu_",
        "colab_type": "code",
        "outputId": "918f8de8-6c8d-418e-e5d6-3ef9c0f5d73f",
        "colab": {
          "base_uri": "https://localhost:8080/",
          "height": 286
        }
      },
      "cell_type": "code",
      "source": [
        "print('Initial weights - ', model[0].weight)\n",
        "\n",
        "images, labels = next(iter(trainloader))\n",
        "images.resize_(64, 784)\n",
        "\n",
        "# Clear the gradients, do this because gradients are accumulated\n",
        "optimizer.zero_grad()\n",
        "\n",
        "# Forward pass, then backward pass, then update weights\n",
        "output = model.forward(images)\n",
        "loss = criterion(output, labels)\n",
        "loss.backward()\n",
        "print('Gradient -', model[0].weight.grad)"
      ],
      "execution_count": 16,
      "outputs": [
        {
          "output_type": "stream",
          "text": [
            "Initial weights -  Parameter containing:\n",
            "tensor([[ 0.0264, -0.0044, -0.0205,  ..., -0.0234,  0.0134,  0.0008],\n",
            "        [ 0.0091,  0.0224,  0.0243,  ..., -0.0312,  0.0066,  0.0124],\n",
            "        [ 0.0209, -0.0235,  0.0074,  ...,  0.0303, -0.0330, -0.0066],\n",
            "        ...,\n",
            "        [ 0.0153, -0.0284,  0.0255,  ..., -0.0219, -0.0102, -0.0084],\n",
            "        [ 0.0150,  0.0203, -0.0083,  ..., -0.0354,  0.0336, -0.0127],\n",
            "        [-0.0291, -0.0032,  0.0265,  ...,  0.0212, -0.0099,  0.0040]],\n",
            "       requires_grad=True)\n",
            "Gradient - tensor([[-0.0030, -0.0030, -0.0030,  ..., -0.0030, -0.0030, -0.0030],\n",
            "        [ 0.0011,  0.0011,  0.0011,  ...,  0.0011,  0.0011,  0.0011],\n",
            "        [-0.0007, -0.0007, -0.0007,  ..., -0.0007, -0.0007, -0.0007],\n",
            "        ...,\n",
            "        [-0.0020, -0.0020, -0.0020,  ..., -0.0020, -0.0020, -0.0020],\n",
            "        [ 0.0016,  0.0016,  0.0016,  ...,  0.0016,  0.0016,  0.0016],\n",
            "        [-0.0025, -0.0025, -0.0025,  ..., -0.0025, -0.0025, -0.0025]])\n"
          ],
          "name": "stdout"
        }
      ]
    },
    {
      "metadata": {
        "id": "UVoIAMDq9QvG",
        "colab_type": "code",
        "outputId": "2643a239-5135-4481-94ee-383eaee60955",
        "colab": {
          "base_uri": "https://localhost:8080/",
          "height": 168
        }
      },
      "cell_type": "code",
      "source": [
        "# Take an update step and few the new weights\n",
        "optimizer.step()\n",
        "print('Updated weights - ', model[0].weight)"
      ],
      "execution_count": 17,
      "outputs": [
        {
          "output_type": "stream",
          "text": [
            "Updated weights -  Parameter containing:\n",
            "tensor([[ 0.0264, -0.0043, -0.0204,  ..., -0.0233,  0.0134,  0.0009],\n",
            "        [ 0.0091,  0.0224,  0.0243,  ..., -0.0312,  0.0065,  0.0124],\n",
            "        [ 0.0209, -0.0235,  0.0074,  ...,  0.0303, -0.0330, -0.0066],\n",
            "        ...,\n",
            "        [ 0.0154, -0.0284,  0.0255,  ..., -0.0219, -0.0102, -0.0084],\n",
            "        [ 0.0150,  0.0203, -0.0083,  ..., -0.0354,  0.0336, -0.0127],\n",
            "        [-0.0291, -0.0031,  0.0266,  ...,  0.0212, -0.0099,  0.0040]],\n",
            "       requires_grad=True)\n"
          ],
          "name": "stdout"
        }
      ]
    },
    {
      "metadata": {
        "id": "R5Xvp4lX9QvR",
        "colab_type": "text"
      },
      "cell_type": "markdown",
      "source": [
        "### Training for real\n",
        "\n",
        "Now we'll put this algorithm into a loop so we can go through all the images. Some nomenclature, one pass through the entire dataset is called an *epoch*. So here we're going to loop through `trainloader` to get our training batches. For each batch, we'll doing a training pass where we calculate the loss, do a backwards pass, and update the weights.\n",
        "\n",
        ">**Exercise:** Implement the training pass for our network. If you implemented it correctly, you should see the training loss drop with each epoch."
      ]
    },
    {
      "metadata": {
        "id": "88GTvLhE9QvU",
        "colab_type": "code",
        "colab": {
          "base_uri": "https://localhost:8080/",
          "height": 101
        },
        "outputId": "3da3a17a-dc39-4c2a-89c0-57581b911ffa"
      },
      "cell_type": "code",
      "source": [
        "## Your solution here\n",
        "\n",
        "model = nn.Sequential(nn.Linear(784, 128),\n",
        "                      nn.ReLU(),\n",
        "                      nn.Linear(128, 64),\n",
        "                      nn.ReLU(),\n",
        "                      nn.Linear(64, 10),\n",
        "                      nn.LogSoftmax(dim=1))\n",
        "\n",
        "criterion = nn.NLLLoss()\n",
        "optimizer = optim.SGD(model.parameters(), lr=0.003)\n",
        "\n",
        "epochs = 5\n",
        "for e in range(epochs):\n",
        "    running_loss = 0\n",
        "    for images, labels in trainloader:\n",
        "        # Flatten MNIST images into a 784 long vector\n",
        "        images = images.view(images.shape[0], -1)\n",
        "    \n",
        "        # Clear the gradients, do this because gradients are accumulated\n",
        "        optimizer.zero_grad()\n",
        "        # Run feedfoward propagation\n",
        "        output = model.forward(images)\n",
        "        # Caompute error\n",
        "        loss = criterion(output, labels)\n",
        "        # Run backpropagation\n",
        "        loss.backward()        \n",
        "        # Update weights\n",
        "        optimizer.step()\n",
        "        \n",
        "        running_loss += loss.item()\n",
        "    else:\n",
        "        print(f\"Training loss: {running_loss/len(trainloader)}\")"
      ],
      "execution_count": 18,
      "outputs": [
        {
          "output_type": "stream",
          "text": [
            "Training loss: 1.910182892513682\n",
            "Training loss: 0.8588567921983153\n",
            "Training loss: 0.5261896749231607\n",
            "Training loss: 0.4306416153939548\n",
            "Training loss: 0.38640483784904356\n"
          ],
          "name": "stdout"
        }
      ]
    },
    {
      "metadata": {
        "id": "r-qOGXHW9QvY",
        "colab_type": "text"
      },
      "cell_type": "markdown",
      "source": [
        "With the network trained, we can check out it's predictions."
      ]
    },
    {
      "metadata": {
        "id": "QDBoFOf0OxNm",
        "colab_type": "code",
        "colab": {
          "resources": {
            "http://localhost:8080/nbextensions/google.colab/files.js": {
              "data": "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",
              "ok": true,
              "headers": [
                [
                  "content-type",
                  "application/javascript"
                ]
              ],
              "status": 200,
              "status_text": ""
            }
          },
          "base_uri": "https://localhost:8080/",
          "height": 90
        },
        "outputId": "ac8860e7-1edf-4c78-9b4b-2a1a8afd731b"
      },
      "cell_type": "code",
      "source": [
        "from google.colab import files\n",
        "\n",
        "uploaded = files.upload()\n",
        "\n",
        "for fn in uploaded.keys():\n",
        "  print('User uploaded file \"{name}\" with length {length} bytes'.format(\n",
        "      name=fn, length=len(uploaded[fn])))"
      ],
      "execution_count": 19,
      "outputs": [
        {
          "output_type": "display_data",
          "data": {
            "text/html": [
              "\n",
              "     <input type=\"file\" id=\"files-1901e83f-77ac-4d63-aca1-9e63959eade3\" name=\"files[]\" multiple disabled />\n",
              "     <output id=\"result-1901e83f-77ac-4d63-aca1-9e63959eade3\">\n",
              "      Upload widget is only available when the cell has been executed in the\n",
              "      current browser session. Please rerun this cell to enable.\n",
              "      </output>\n",
              "      <script src=\"/nbextensions/google.colab/files.js\"></script> "
            ],
            "text/plain": [
              "<IPython.core.display.HTML object>"
            ]
          },
          "metadata": {
            "tags": []
          }
        },
        {
          "output_type": "stream",
          "text": [
            "Saving helper.py to helper.py\n",
            "User uploaded file \"helper.py\" with length 2813 bytes\n"
          ],
          "name": "stdout"
        }
      ]
    },
    {
      "metadata": {
        "id": "zr2eqgPi9Qva",
        "colab_type": "code",
        "colab": {
          "base_uri": "https://localhost:8080/",
          "height": 245
        },
        "outputId": "f0739cc7-0cf9-44ac-b210-619f738ff0a3"
      },
      "cell_type": "code",
      "source": [
        "%matplotlib inline\n",
        "import helper\n",
        "\n",
        "images, labels = next(iter(trainloader))\n",
        "\n",
        "img = images[0].view(1, 784)\n",
        "# Turn off gradients to speed up this part\n",
        "with torch.no_grad():\n",
        "    logits = model.forward(img)\n",
        "\n",
        "# Output of the network are logits, need to take softmax for probabilities\n",
        "ps = F.softmax(logits, dim=1)\n",
        "helper.view_classify(img.view(1, 28, 28), ps)"
      ],
      "execution_count": 23,
      "outputs": [
        {
          "output_type": "display_data",
          "data": {
            "image/png": "[encoded data removed]",
            "text/plain": [
              "<matplotlib.figure.Figure at 0x7f9c9b86ae48>"
            ]
          },
          "metadata": {
            "tags": []
          }
        }
      ]
    },
    {
      "metadata": {
        "id": "q4OVgp4Y9Qvg",
        "colab_type": "text"
      },
      "cell_type": "markdown",
      "source": [
        "Now our network is brilliant. It can accurately predict the digits in our images. Next up you'll write the code for training a neural network on a more complex dataset."
      ]
    },
    {
      "metadata": {
        "id": "rVpB4oFROtoQ",
        "colab_type": "code",
        "colab": {}
      },
      "cell_type": "code",
      "source": [
        ""
      ],
      "execution_count": 0,
      "outputs": []
    }
  ]
}