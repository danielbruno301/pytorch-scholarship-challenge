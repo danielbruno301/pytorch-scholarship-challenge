{
  "nbformat": 4,
  "nbformat_minor": 0,
  "metadata": {
    "colab": {
      "name": "Part 3 - Training Neural Networks (Exercises).ipynb",
      "version": "0.3.2",
      "provenance": []
    },
    "kernelspec": {
      "display_name": "Python 3",
      "language": "python",
      "name": "python3"
    }
  },
  "cells": [
    {
      "metadata": {
        "id": "_2ZyDLiU9Qs3",
        "colab_type": "text"
      },
      "cell_type": "markdown",
      "source": [
        "# Training Neural Networks\n",
        "\n",
        "The network we built in the previous part isn't so smart, it doesn't know anything about our handwritten digits. Neural networks with non-linear activations work like universal function approximators. There is some function that maps your input to the output. For example, images of handwritten digits to class probabilities. The power of neural networks is that we can train them to approximate this function, and basically any function given enough data and compute time.\n",
        "\n",
        "<img src=\"https://github.com/danielbruno301/pytorch-scholarship-challenge/blob/master/lesson_4/assets/function_approx.png?raw=1\" width=500px>\n",
        "\n",
        "At first the network is naive, it doesn't know the function mapping the inputs to the outputs. We train the network by showing it examples of real data, then adjusting the network parameters such that it approximates this function.\n",
        "\n",
        "To find these parameters, we need to know how poorly the network is predicting the real outputs. For this we calculate a **loss function** (also called the cost), a measure of our prediction error. For example, the mean squared loss is often used in regression and binary classification problems\n",
        "\n",
        "$$\n",
        "\\large \\ell = \\frac{1}{2n}\\sum_i^n{\\left(y_i - \\hat{y}_i\\right)^2}\n",
        "$$\n",
        "\n",
        "where $n$ is the number of training examples, $y_i$ are the true labels, and $\\hat{y}_i$ are the predicted labels.\n",
        "\n",
        "By minimizing this loss with respect to the network parameters, we can find configurations where the loss is at a minimum and the network is able to predict the correct labels with high accuracy. We find this minimum using a process called **gradient descent**. The gradient is the slope of the loss function and points in the direction of fastest change. To get to the minimum in the least amount of time, we then want to follow the gradient (downwards). You can think of this like descending a mountain by following the steepest slope to the base.\n",
        "\n",
        "<img src='https://github.com/danielbruno301/pytorch-scholarship-challenge/blob/master/lesson_4/assets/gradient_descent.png?raw=1' width=350px>"
      ]
    },
    {
      "metadata": {
        "id": "u34gcP3P9Qs5",
        "colab_type": "text"
      },
      "cell_type": "markdown",
      "source": [
        "## Backpropagation\n",
        "\n",
        "For single layer networks, gradient descent is straightforward to implement. However, it's more complicated for deeper, multilayer neural networks like the one we've built. Complicated enough that it took about 30 years before researchers figured out how to train multilayer networks.\n",
        "\n",
        "Training multilayer networks is done through **backpropagation** which is really just an application of the chain rule from calculus. It's easiest to understand if we convert a two layer network into a graph representation.\n",
        "\n",
        "<img src='https://github.com/danielbruno301/pytorch-scholarship-challenge/blob/master/lesson_4/assets/backprop_diagram.png?raw=1' width=550px>\n",
        "\n",
        "In the forward pass through the network, our data and operations go from bottom to top here. We pass the input $x$ through a linear transformation $L_1$ with weights $W_1$ and biases $b_1$. The output then goes through the sigmoid operation $S$ and another linear transformation $L_2$. Finally we calculate the loss $\\ell$. We use the loss as a measure of how bad the network's predictions are. The goal then is to adjust the weights and biases to minimize the loss.\n",
        "\n",
        "To train the weights with gradient descent, we propagate the gradient of the loss backwards through the network. Each operation has some gradient between the inputs and outputs. As we send the gradients backwards, we multiply the incoming gradient with the gradient for the operation. Mathematically, this is really just calculating the gradient of the loss with respect to the weights using the chain rule.\n",
        "\n",
        "$$\n",
        "\\large \\frac{\\partial \\ell}{\\partial W_1} = \\frac{\\partial L_1}{\\partial W_1} \\frac{\\partial S}{\\partial L_1} \\frac{\\partial L_2}{\\partial S} \\frac{\\partial \\ell}{\\partial L_2}\n",
        "$$\n",
        "\n",
        "**Note:** I'm glossing over a few details here that require some knowledge of vector calculus, but they aren't necessary to understand what's going on.\n",
        "\n",
        "We update our weights using this gradient with some learning rate $\\alpha$. \n",
        "\n",
        "$$\n",
        "\\large W^\\prime_1 = W_1 - \\alpha \\frac{\\partial \\ell}{\\partial W_1}\n",
        "$$\n",
        "\n",
        "The learning rate $\\alpha$ is set such that the weight update steps are small enough that the iterative method settles in a minimum."
      ]
    },
    {
      "metadata": {
        "id": "uoU1bVwH9Qs7",
        "colab_type": "text"
      },
      "cell_type": "markdown",
      "source": [
        "## Losses in PyTorch\n",
        "\n",
        "Let's start by seeing how we calculate the loss with PyTorch. Through the `nn` module, PyTorch provides losses such as the cross-entropy loss (`nn.CrossEntropyLoss`). You'll usually see the loss assigned to `criterion`. As noted in the last part, with a classification problem such as MNIST, we're using the softmax function to predict class probabilities. With a softmax output, you want to use cross-entropy as the loss. To actually calculate the loss, you first define the criterion then pass in the output of your network and the correct labels.\n",
        "\n",
        "Something really important to note here. Looking at [the documentation for `nn.CrossEntropyLoss`](https://pytorch.org/docs/stable/nn.html#torch.nn.CrossEntropyLoss),\n",
        "\n",
        "> This criterion combines `nn.LogSoftmax()` and `nn.NLLLoss()` in one single class.\n",
        ">\n",
        "> The input is expected to contain scores for each class.\n",
        "\n",
        "This means we need to pass in the raw output of our network into the loss, not the output of the softmax function. This raw output is usually called the *logits* or *scores*. We use the logits because softmax gives you probabilities which will often be very close to zero or one but floating-point numbers can't accurately represent values near zero or one ([read more here](https://docs.python.org/3/tutorial/floatingpoint.html)). It's usually best to avoid doing calculations with probabilities, typically we use log-probabilities."
      ]
    },
    {
      "metadata": {
        "id": "I8iLrN7_-dcP",
        "colab_type": "code",
        "colab": {}
      },
      "cell_type": "code",
      "source": [
        "# http://pytorch.org/\n",
        "from os.path import exists\n",
        "from wheel.pep425tags import get_abbr_impl, get_impl_ver, get_abi_tag\n",
        "platform = '{}{}-{}'.format(get_abbr_impl(), get_impl_ver(), get_abi_tag())\n",
        "cuda_output = !ldconfig -p|grep cudart.so|sed -e 's/.*\\.\\([0-9]*\\)\\.\\([0-9]*\\)$/cu\\1\\2/'\n",
        "accelerator = cuda_output[0] if exists('/dev/nvidia0') else 'cpu'\n",
        "\n",
        "!pip install -q http://download.pytorch.org/whl/{accelerator}/torch-0.4.1-{platform}-linux_x86_64.whl torchvision"
      ],
      "execution_count": 0,
      "outputs": []
    },
    {
      "metadata": {
        "id": "jpS8rKml9Qs8",
        "colab_type": "code",
        "colab": {
          "base_uri": "https://localhost:8080/",
          "height": 119
        },
        "outputId": "e91366a0-04de-4e9e-d84a-04c97564fb39"
      },
      "cell_type": "code",
      "source": [
        "import torch\n",
        "from torch import nn\n",
        "import torch.nn.functional as F\n",
        "from torchvision import datasets, transforms\n",
        "\n",
        "# Define a transform to normalize the data\n",
        "transform = transforms.Compose([transforms.ToTensor(),\n",
        "                                transforms.Normalize((0.5, 0.5, 0.5), (0.5, 0.5, 0.5)),\n",
        "                              ])\n",
        "# Download and load the training data\n",
        "trainset = datasets.MNIST('~/.pytorch/MNIST_data/', download=True, train=True, transform=transform)\n",
        "trainloader = torch.utils.data.DataLoader(trainset, batch_size=64, shuffle=True)"
      ],
      "execution_count": 3,
      "outputs": [
        {
          "output_type": "stream",
          "text": [
            "Downloading http://yann.lecun.com/exdb/mnist/train-images-idx3-ubyte.gz\n",
            "Downloading http://yann.lecun.com/exdb/mnist/train-labels-idx1-ubyte.gz\n",
            "Downloading http://yann.lecun.com/exdb/mnist/t10k-images-idx3-ubyte.gz\n",
            "Downloading http://yann.lecun.com/exdb/mnist/t10k-labels-idx1-ubyte.gz\n",
            "Processing...\n",
            "Done!\n"
          ],
          "name": "stdout"
        }
      ]
    },
    {
      "metadata": {
        "id": "4tE-2COO9QtD",
        "colab_type": "text"
      },
      "cell_type": "markdown",
      "source": [
        "### Note\n",
        "If you haven't seen `nn.Sequential` yet, please finish the end of the Part 2 notebook."
      ]
    },
    {
      "metadata": {
        "id": "2W2w8jjv9QtG",
        "colab_type": "code",
        "colab": {
          "base_uri": "https://localhost:8080/",
          "height": 2210
        },
        "outputId": "a87fa225-1706-4980-85cf-125aea1902b5"
      },
      "cell_type": "code",
      "source": [
        "# Build a feed-forward network\n",
        "model = nn.Sequential(nn.Linear(784, 128),\n",
        "                      nn.ReLU(),\n",
        "                      nn.Linear(128, 64),\n",
        "                      nn.ReLU(),\n",
        "                      nn.Linear(64, 10))\n",
        "\n",
        "# Define the loss\n",
        "criterion = nn.CrossEntropyLoss()\n",
        "\n",
        "# Get our data\n",
        "images, labels = next(iter(trainloader))\n",
        "# Flatten images\n",
        "images = images.view(images.shape[0], -1)\n",
        "\n",
        "# Forward pass, get our logits\n",
        "logits = model(images)\n",
        "print(logits)\n",
        "# Calculate the loss with the logits and the labels\n",
        "loss = criterion(logits, labels)\n",
        "\n",
        "print(loss)"
      ],
      "execution_count": 6,
      "outputs": [
        {
          "output_type": "stream",
          "text": [
            "tensor([[ 0.0150,  0.0270, -0.0151,  0.0150,  0.0476, -0.0936,  0.0006, -0.0387,\n",
            "          0.0196,  0.1411],\n",
            "        [-0.0117, -0.0639,  0.0317, -0.0205,  0.1839, -0.0633,  0.0051, -0.0628,\n",
            "          0.0294,  0.0539],\n",
            "        [ 0.0197, -0.0586,  0.0898,  0.0418,  0.0831, -0.1083,  0.0097, -0.0407,\n",
            "         -0.0035,  0.1126],\n",
            "        [-0.0224,  0.0060,  0.0061, -0.0231,  0.0881, -0.1063,  0.0287, -0.0353,\n",
            "          0.0609,  0.1564],\n",
            "        [ 0.0069, -0.0058, -0.0212, -0.0243,  0.1389, -0.1638,  0.0666, -0.0261,\n",
            "          0.0208,  0.1391],\n",
            "        [-0.0225, -0.0333,  0.0026, -0.0051,  0.0377, -0.1079,  0.0572, -0.0216,\n",
            "          0.0423,  0.1554],\n",
            "        [-0.0237,  0.0088,  0.0209, -0.0547,  0.1557, -0.1630, -0.0275, -0.0262,\n",
            "          0.0242,  0.1901],\n",
            "        [ 0.0027, -0.0914,  0.0467, -0.0348,  0.1712, -0.1334,  0.0117, -0.0559,\n",
            "          0.0510,  0.0927],\n",
            "        [ 0.0374, -0.0290,  0.1344,  0.0200,  0.1127, -0.0716, -0.0272,  0.0017,\n",
            "          0.0555,  0.0726],\n",
            "        [ 0.0076, -0.0461,  0.0603,  0.0332,  0.0833, -0.1029, -0.0183, -0.0537,\n",
            "          0.0416,  0.0808],\n",
            "        [ 0.0415, -0.1198,  0.0266,  0.0044,  0.1368, -0.0881,  0.0632, -0.0321,\n",
            "          0.0065,  0.0620],\n",
            "        [ 0.0124, -0.0613,  0.0987, -0.0052,  0.1059, -0.0596, -0.0119, -0.0594,\n",
            "         -0.0104,  0.0932],\n",
            "        [ 0.0274, -0.0989,  0.1294, -0.0184,  0.1271, -0.1105, -0.0165, -0.0306,\n",
            "          0.0370, -0.0042],\n",
            "        [-0.0189, -0.0325,  0.0983, -0.0151,  0.0987, -0.0821,  0.0282, -0.0093,\n",
            "          0.0765,  0.1075],\n",
            "        [-0.0397, -0.1124,  0.0107,  0.0291,  0.0883, -0.1597,  0.0281, -0.0325,\n",
            "          0.0167,  0.0628],\n",
            "        [ 0.0696, -0.1041,  0.0792,  0.0208,  0.0677, -0.1598,  0.0837, -0.0724,\n",
            "         -0.0081,  0.0515],\n",
            "        [-0.0174, -0.0516,  0.0670,  0.0226,  0.1632, -0.1061, -0.0292, -0.0658,\n",
            "          0.0121,  0.1139],\n",
            "        [-0.0372, -0.0296,  0.0509, -0.0032,  0.0749, -0.1147,  0.0313, -0.0036,\n",
            "          0.0526,  0.1183],\n",
            "        [-0.0484, -0.0729,  0.0578, -0.0416,  0.0767, -0.1638,  0.0702, -0.0655,\n",
            "          0.0800,  0.0025],\n",
            "        [-0.0035, -0.0061,  0.0720, -0.0090,  0.0517, -0.1127,  0.0262, -0.0043,\n",
            "          0.0485,  0.1206],\n",
            "        [-0.0168,  0.0096,  0.0779, -0.0403,  0.0540, -0.0679,  0.0468, -0.0699,\n",
            "          0.0462,  0.1438],\n",
            "        [ 0.0148, -0.0458,  0.0566,  0.0087,  0.1530, -0.1572, -0.0551, -0.0568,\n",
            "         -0.0205,  0.1134],\n",
            "        [ 0.0195, -0.0223,  0.0675,  0.0043,  0.0421, -0.1288,  0.0001, -0.0587,\n",
            "          0.0117,  0.1272],\n",
            "        [-0.0219,  0.0162,  0.0749,  0.0030,  0.0476, -0.1289,  0.0296,  0.0353,\n",
            "          0.0610,  0.1324],\n",
            "        [-0.0374, -0.0000,  0.0697,  0.0014,  0.1270, -0.1356, -0.0153, -0.0240,\n",
            "          0.0304,  0.1500],\n",
            "        [-0.0283,  0.0076,  0.0207,  0.0024,  0.0897, -0.1261, -0.0047, -0.0390,\n",
            "          0.0272,  0.1266],\n",
            "        [-0.0003, -0.0533,  0.0678,  0.0015,  0.1014, -0.1420,  0.0339, -0.0435,\n",
            "          0.0519,  0.0880],\n",
            "        [-0.0141, -0.0181,  0.1127,  0.0136,  0.1596, -0.0750, -0.0499, -0.0788,\n",
            "          0.0208,  0.0779],\n",
            "        [-0.0113, -0.0255,  0.0426,  0.0709,  0.1293, -0.1387, -0.0767, -0.0973,\n",
            "         -0.0491,  0.1316],\n",
            "        [-0.0251,  0.0494,  0.0294,  0.0215,  0.0500, -0.1435,  0.0042, -0.0162,\n",
            "          0.0568,  0.1556],\n",
            "        [-0.0381, -0.0791,  0.1205,  0.0469,  0.0820, -0.1318, -0.0061, -0.0339,\n",
            "          0.0107,  0.0871],\n",
            "        [ 0.0126,  0.0372,  0.0598, -0.0276,  0.0877, -0.1138,  0.0620, -0.1049,\n",
            "         -0.0036,  0.1320],\n",
            "        [-0.0066, -0.0556,  0.0237,  0.0326,  0.1188, -0.0495,  0.0190, -0.0491,\n",
            "          0.0371,  0.0556],\n",
            "        [-0.0180, -0.0160,  0.0172,  0.0379,  0.0737, -0.0860,  0.0389, -0.0741,\n",
            "          0.0153,  0.1072],\n",
            "        [-0.0477, -0.0464,  0.0785,  0.0430,  0.1165, -0.0813,  0.0185, -0.0122,\n",
            "          0.0463,  0.1115],\n",
            "        [-0.0357, -0.0588,  0.1176,  0.1060,  0.0230, -0.1603, -0.0008, -0.0385,\n",
            "         -0.0020,  0.0723],\n",
            "        [ 0.0037, -0.1323,  0.0783,  0.0412,  0.1607, -0.1151, -0.0169, -0.0195,\n",
            "          0.0059,  0.1031],\n",
            "        [ 0.0169, -0.0101, -0.0046,  0.0291,  0.0698, -0.1338,  0.0045,  0.0058,\n",
            "          0.0281,  0.1360],\n",
            "        [-0.0141, -0.0087,  0.0362, -0.0108,  0.0849, -0.1502, -0.0140, -0.0220,\n",
            "          0.0021,  0.1285],\n",
            "        [ 0.1103, -0.0199,  0.0412, -0.0119,  0.0813, -0.0702,  0.0187,  0.0767,\n",
            "          0.1100,  0.0594],\n",
            "        [-0.0402, -0.0165,  0.0909,  0.0210,  0.1177, -0.0675,  0.0089, -0.0333,\n",
            "          0.0691,  0.1045],\n",
            "        [-0.0602, -0.0271,  0.0534,  0.0278,  0.0602, -0.1504,  0.0259, -0.0614,\n",
            "          0.0130,  0.1586],\n",
            "        [ 0.0022, -0.0970,  0.0856,  0.0280,  0.1461, -0.1407,  0.0333, -0.1075,\n",
            "         -0.0391,  0.1236],\n",
            "        [-0.0179, -0.1235,  0.0518,  0.0411,  0.1389, -0.1521,  0.1005, -0.0507,\n",
            "          0.0167,  0.1052],\n",
            "        [ 0.0055, -0.0848,  0.1157,  0.0255,  0.1496, -0.0885, -0.0683, -0.0646,\n",
            "         -0.0005, -0.0301],\n",
            "        [-0.0123, -0.0519,  0.0504,  0.0304,  0.1068, -0.1224, -0.0064, -0.0965,\n",
            "         -0.0080,  0.0808],\n",
            "        [-0.0039, -0.0846,  0.0620,  0.0437,  0.1072, -0.1102,  0.0178, -0.0204,\n",
            "          0.0172,  0.0812],\n",
            "        [-0.0810,  0.0056,  0.0210,  0.0943,  0.1521, -0.1833, -0.0529, -0.0127,\n",
            "          0.0328,  0.1755],\n",
            "        [ 0.0034, -0.0356,  0.0233,  0.0265,  0.1274, -0.1110, -0.0319, -0.0761,\n",
            "          0.0280,  0.0844],\n",
            "        [-0.0815, -0.0422, -0.0046,  0.0045,  0.0370, -0.1228,  0.0638, -0.0637,\n",
            "          0.0446,  0.0772],\n",
            "        [-0.0406,  0.0331,  0.0261,  0.0048,  0.1005, -0.1100,  0.0263, -0.0319,\n",
            "          0.0498,  0.1066],\n",
            "        [ 0.0182,  0.0181,  0.0420, -0.0360,  0.0860, -0.0908,  0.0617, -0.0075,\n",
            "          0.0621,  0.1382],\n",
            "        [ 0.0311, -0.0668,  0.1225,  0.0250,  0.0575, -0.1394,  0.0100, -0.0390,\n",
            "          0.0112,  0.0619],\n",
            "        [ 0.0112, -0.0166,  0.0554,  0.0237,  0.0481, -0.0998,  0.0167, -0.0421,\n",
            "          0.0368,  0.0878],\n",
            "        [-0.0314, -0.0242,  0.0110,  0.0084,  0.0866, -0.1386,  0.0117, -0.0428,\n",
            "          0.0284,  0.1230],\n",
            "        [ 0.0304, -0.0914,  0.1042,  0.0280,  0.0937, -0.1407, -0.0732, -0.0454,\n",
            "          0.0230,  0.0435],\n",
            "        [-0.0665,  0.0215,  0.0322, -0.0216,  0.0617, -0.0876,  0.0834,  0.0048,\n",
            "          0.0941,  0.1748],\n",
            "        [-0.0178,  0.0241,  0.0247,  0.0187,  0.0866, -0.1340, -0.0329, -0.0312,\n",
            "          0.0419,  0.1508],\n",
            "        [ 0.0122, -0.1214,  0.0798,  0.0613,  0.1458, -0.1506, -0.0151, -0.0664,\n",
            "         -0.0207,  0.0292],\n",
            "        [-0.0044, -0.1364,  0.0794,  0.0462,  0.1075, -0.1116, -0.0282, -0.0643,\n",
            "         -0.0089,  0.0399],\n",
            "        [-0.0114, -0.0159,  0.0002, -0.0126,  0.1082, -0.0818,  0.0441, -0.0684,\n",
            "          0.0584,  0.0926],\n",
            "        [-0.0471, -0.0591,  0.0060,  0.0401,  0.1002, -0.1225,  0.0313, -0.0184,\n",
            "          0.0084,  0.1443],\n",
            "        [ 0.0208, -0.0407,  0.0805,  0.0541,  0.0895, -0.0870,  0.0354,  0.0696,\n",
            "          0.0925,  0.0568],\n",
            "        [-0.0194, -0.0520,  0.1029, -0.0188,  0.0975, -0.1712,  0.0022, -0.0493,\n",
            "          0.0261,  0.1385]], grad_fn=<ThAddmmBackward>)\n",
            "tensor(2.2970, grad_fn=<NllLossBackward>)\n"
          ],
          "name": "stdout"
        }
      ]
    },
    {
      "metadata": {
        "id": "StbXlooU9QtN",
        "colab_type": "text"
      },
      "cell_type": "markdown",
      "source": [
        "In my experience it's more convenient to build the model with a log-softmax output using `nn.LogSoftmax` or `F.log_softmax` ([documentation](https://pytorch.org/docs/stable/nn.html#torch.nn.LogSoftmax)). Then you can get the actual probabilities by taking the exponential `torch.exp(output)`. With a log-softmax output, you want to use the negative log likelihood loss, `nn.NLLLoss` ([documentation](https://pytorch.org/docs/stable/nn.html#torch.nn.NLLLoss)).\n",
        "\n",
        ">**Exercise:** Build a model that returns the log-softmax as the output and calculate the loss using the negative log likelihood loss. Note that for `nn.LogSoftmax` and `F.log_softmax` you'll need to set the `dim` keyword argument appropriately. `dim=0` calculates softmax across the rows, so each column sums to 1, while `dim=1` calculates across the columns so each row sums to 1. Think about what you want the output to be and choose `dim` appropriately."
      ]
    },
    {
      "metadata": {
        "id": "adcD8QDV9QtP",
        "colab_type": "code",
        "colab": {
          "base_uri": "https://localhost:8080/",
          "height": 2210
        },
        "outputId": "8cab6571-434f-4cb1-cb81-17328a617eb1"
      },
      "cell_type": "code",
      "source": [
        "# TODO: Build a feed-forward network\n",
        "model = nn.Sequential(nn.Linear(784, 128),\n",
        "                      nn.ReLU(),\n",
        "                      nn.Linear(128, 64),\n",
        "                      nn.ReLU(),\n",
        "                      nn.Linear(64, 10),\n",
        "                      nn.LogSoftmax(dim=1))\n",
        "\n",
        "# TODO: Define the loss\n",
        "criterion = nn.NLLLoss()\n",
        "\n",
        "### Run this to check your work\n",
        "# Get our data\n",
        "images, labels = next(iter(trainloader))\n",
        "# Flatten images\n",
        "images = images.view(images.shape[0], -1)\n",
        "\n",
        "# Forward pass, get our log probabilities\n",
        "log_probs = model(images)\n",
        "print(log_probs)\n",
        "# Calculate the loss with the logits and the labels\n",
        "loss = criterion(log_probs, labels)\n",
        "\n",
        "print(loss)"
      ],
      "execution_count": 7,
      "outputs": [
        {
          "output_type": "stream",
          "text": [
            "tensor([[-2.4660, -2.1189, -2.2515, -2.3172, -2.4888, -2.3891, -2.2973, -2.4372,\n",
            "         -2.1514, -2.1881],\n",
            "        [-2.4385, -2.1854, -2.2697, -2.3080, -2.4536, -2.3932, -2.2108, -2.5195,\n",
            "         -2.2141, -2.1136],\n",
            "        [-2.4420, -2.1134, -2.1989, -2.3467, -2.4979, -2.4039, -2.2704, -2.5205,\n",
            "         -2.1957, -2.1373],\n",
            "        [-2.3889, -2.1810, -2.3014, -2.3698, -2.4516, -2.3847, -2.2462, -2.5546,\n",
            "         -2.1848, -2.0603],\n",
            "        [-2.4837, -2.1681, -2.2368, -2.2872, -2.4137, -2.4061, -2.3641, -2.4534,\n",
            "         -2.2388, -2.0593],\n",
            "        [-2.4585, -2.1951, -2.3095, -2.3505, -2.3914, -2.3534, -2.2287, -2.5190,\n",
            "         -2.2371, -2.0641],\n",
            "        [-2.4071, -2.1387, -2.1655, -2.4098, -2.4203, -2.3916, -2.2366, -2.6033,\n",
            "         -2.2255, -2.1342],\n",
            "        [-2.4120, -2.0871, -2.2611, -2.3628, -2.4661, -2.4139, -2.2830, -2.5140,\n",
            "         -2.2413, -2.0850],\n",
            "        [-2.4529, -2.1922, -2.1788, -2.3182, -2.4029, -2.4497, -2.2457, -2.5134,\n",
            "         -2.2837, -2.0784],\n",
            "        [-2.4918, -2.1337, -2.2033, -2.4266, -2.3816, -2.3778, -2.2816, -2.5165,\n",
            "         -2.2277, -2.0852],\n",
            "        [-2.4947, -2.1954, -2.3090, -2.3074, -2.4105, -2.3487, -2.2543, -2.4339,\n",
            "         -2.2502, -2.0875],\n",
            "        [-2.4061, -2.1539, -2.1448, -2.3903, -2.4587, -2.3730, -2.1888, -2.6100,\n",
            "         -2.2605, -2.1500],\n",
            "        [-2.4113, -2.1899, -2.1448, -2.3683, -2.4830, -2.3476, -2.2290, -2.5783,\n",
            "         -2.2482, -2.1250],\n",
            "        [-2.4246, -2.1782, -2.3182, -2.3111, -2.4511, -2.3241, -2.3035, -2.4778,\n",
            "         -2.2281, -2.0794],\n",
            "        [-2.4875, -2.2577, -2.2315, -2.3170, -2.3750, -2.3967, -2.2824, -2.4720,\n",
            "         -2.1992, -2.0797],\n",
            "        [-2.4582, -2.2255, -2.2403, -2.2923, -2.4544, -2.3713, -2.2998, -2.4740,\n",
            "         -2.2058, -2.0797],\n",
            "        [-2.5053, -2.1885, -2.1952, -2.4117, -2.3701, -2.3795, -2.2840, -2.5120,\n",
            "         -2.1936, -2.0820],\n",
            "        [-2.4258, -2.1835, -2.2551, -2.3445, -2.4084, -2.3758, -2.3106, -2.5318,\n",
            "         -2.1799, -2.0913],\n",
            "        [-2.3953, -2.1494, -2.2720, -2.3521, -2.3816, -2.3997, -2.2489, -2.5405,\n",
            "         -2.2235, -2.1344],\n",
            "        [-2.4196, -2.1868, -2.2017, -2.4013, -2.3626, -2.4581, -2.2285, -2.5667,\n",
            "         -2.2092, -2.0914],\n",
            "        [-2.4842, -2.1360, -2.1742, -2.3744, -2.4357, -2.4010, -2.2480, -2.5233,\n",
            "         -2.2985, -2.0609],\n",
            "        [-2.4481, -2.1040, -2.2251, -2.3933, -2.4237, -2.4140, -2.2289, -2.5147,\n",
            "         -2.2167, -2.1487],\n",
            "        [-2.4837, -2.2249, -2.1939, -2.4041, -2.4110, -2.4600, -2.2850, -2.4019,\n",
            "         -2.2473, -2.0137],\n",
            "        [-2.4791, -2.2548, -2.2070, -2.3565, -2.3862, -2.4376, -2.2440, -2.5161,\n",
            "         -2.2409, -2.0100],\n",
            "        [-2.3881, -2.1719, -2.2188, -2.3890, -2.4091, -2.3708, -2.2009, -2.5258,\n",
            "         -2.2462, -2.1719],\n",
            "        [-2.4541, -2.1938, -2.3002, -2.2815, -2.4321, -2.3954, -2.3167, -2.4739,\n",
            "         -2.1838, -2.0736],\n",
            "        [-2.4485, -2.1176, -2.2015, -2.3552, -2.4369, -2.4309, -2.2833, -2.4941,\n",
            "         -2.1911, -2.1538],\n",
            "        [-2.4706, -2.1743, -2.2528, -2.2995, -2.4350, -2.4036, -2.3581, -2.4910,\n",
            "         -2.1757, -2.0602],\n",
            "        [-2.5050, -2.1355, -2.2037, -2.4055, -2.3946, -2.4146, -2.2636, -2.5415,\n",
            "         -2.2836, -2.0080],\n",
            "        [-2.4309, -2.0936, -2.1732, -2.3683, -2.4445, -2.3818, -2.3606, -2.5013,\n",
            "         -2.2247, -2.1392],\n",
            "        [-2.4026, -2.1463, -2.1934, -2.4327, -2.3663, -2.4346, -2.2856, -2.5358,\n",
            "         -2.2120, -2.1084],\n",
            "        [-2.4500, -2.2042, -2.2055, -2.3944, -2.4202, -2.3255, -2.2070, -2.5557,\n",
            "         -2.2328, -2.1168],\n",
            "        [-2.4512, -2.1572, -2.1888, -2.4119, -2.3938, -2.4017, -2.2756, -2.4847,\n",
            "         -2.2702, -2.0775],\n",
            "        [-2.5425, -2.2672, -2.2755, -2.3527, -2.2635, -2.3914, -2.2682, -2.4318,\n",
            "         -2.2327, -2.0733],\n",
            "        [-2.4657, -2.1281, -2.1938, -2.3898, -2.4301, -2.3810, -2.2643, -2.5420,\n",
            "         -2.1732, -2.1549],\n",
            "        [-2.3862, -2.1566, -2.1946, -2.3625, -2.4402, -2.3494, -2.3428, -2.5418,\n",
            "         -2.2791, -2.0636],\n",
            "        [-2.4729, -2.2078, -2.2230, -2.3300, -2.3629, -2.4350, -2.2930, -2.4298,\n",
            "         -2.2120, -2.1212],\n",
            "        [-2.4435, -2.2198, -2.2648, -2.3965, -2.3599, -2.3410, -2.2981, -2.5081,\n",
            "         -2.1767, -2.0901],\n",
            "        [-2.4178, -2.1647, -2.2897, -2.3317, -2.4572, -2.3548, -2.3164, -2.5058,\n",
            "         -2.2016, -2.0696],\n",
            "        [-2.4551, -2.1590, -2.2181, -2.3282, -2.4397, -2.3751, -2.2711, -2.5516,\n",
            "         -2.2629, -2.0634],\n",
            "        [-2.4699, -2.1416, -2.1431, -2.3649, -2.4469, -2.3526, -2.2941, -2.5447,\n",
            "         -2.2310, -2.1350],\n",
            "        [-2.5129, -2.1859, -2.1337, -2.3550, -2.3847, -2.4197, -2.2433, -2.5085,\n",
            "         -2.2452, -2.1301],\n",
            "        [-2.4581, -2.1569, -2.2920, -2.3059, -2.4865, -2.3786, -2.2246, -2.5809,\n",
            "         -2.1448, -2.1103],\n",
            "        [-2.4342, -2.1662, -2.1743, -2.3009, -2.4902, -2.4107, -2.2278, -2.5274,\n",
            "         -2.2536, -2.1323],\n",
            "        [-2.5273, -2.1615, -2.1798, -2.3814, -2.3619, -2.4150, -2.3135, -2.4417,\n",
            "         -2.2298, -2.1005],\n",
            "        [-2.4267, -2.1788, -2.0583, -2.3810, -2.4890, -2.4522, -2.2718, -2.5521,\n",
            "         -2.2178, -2.1254],\n",
            "        [-2.4012, -2.1682, -2.2483, -2.4092, -2.3683, -2.3674, -2.2900, -2.5250,\n",
            "         -2.2559, -2.0710],\n",
            "        [-2.4477, -2.1791, -2.1135, -2.3383, -2.4930, -2.4601, -2.2307, -2.5675,\n",
            "         -2.2001, -2.1202],\n",
            "        [-2.4526, -2.0713, -2.1790, -2.3842, -2.4232, -2.3888, -2.2850, -2.4817,\n",
            "         -2.3141, -2.1373],\n",
            "        [-2.4333, -2.1619, -2.2300, -2.3033, -2.4367, -2.4037, -2.3304, -2.5001,\n",
            "         -2.2223, -2.0863],\n",
            "        [-2.4716, -2.1024, -2.1269, -2.4233, -2.3929, -2.3772, -2.2847, -2.5076,\n",
            "         -2.3256, -2.1171],\n",
            "        [-2.4180, -2.1454, -2.2304, -2.3214, -2.4434, -2.4128, -2.3623, -2.4703,\n",
            "         -2.2021, -2.0996],\n",
            "        [-2.5104, -2.1935, -2.2188, -2.3604, -2.3444, -2.3360, -2.2934, -2.5055,\n",
            "         -2.2487, -2.0923],\n",
            "        [-2.4638, -2.1300, -2.1749, -2.3354, -2.4401, -2.3516, -2.3282, -2.5260,\n",
            "         -2.2895, -2.0832],\n",
            "        [-2.4682, -2.1059, -2.2032, -2.3514, -2.4662, -2.4016, -2.3239, -2.4385,\n",
            "         -2.2496, -2.1059],\n",
            "        [-2.4226, -2.1844, -2.2971, -2.3019, -2.4495, -2.3488, -2.3024, -2.5132,\n",
            "         -2.2130, -2.0720],\n",
            "        [-2.4278, -2.1659, -2.2082, -2.3158, -2.4740, -2.3486, -2.3006, -2.5558,\n",
            "         -2.1566, -2.1608],\n",
            "        [-2.4747, -2.2163, -2.2188, -2.3442, -2.4289, -2.3180, -2.2486, -2.5241,\n",
            "         -2.2480, -2.0854],\n",
            "        [-2.4152, -2.1747, -2.1714, -2.3347, -2.4582, -2.4628, -2.2870, -2.5314,\n",
            "         -2.1976, -2.0941],\n",
            "        [-2.4555, -2.1610, -2.2843, -2.2882, -2.4573, -2.3407, -2.3202, -2.3928,\n",
            "         -2.2522, -2.1289],\n",
            "        [-2.4914, -2.1194, -2.2028, -2.4398, -2.3543, -2.4242, -2.2655, -2.5541,\n",
            "         -2.2487, -2.0491],\n",
            "        [-2.4440, -2.1045, -2.1289, -2.4598, -2.4291, -2.3423, -2.2544, -2.5978,\n",
            "         -2.2438, -2.1438],\n",
            "        [-2.4313, -2.2084, -2.1786, -2.3911, -2.3990, -2.4485, -2.2617, -2.4789,\n",
            "         -2.1711, -2.1355],\n",
            "        [-2.4580, -2.2096, -2.2773, -2.3252, -2.3966, -2.3731, -2.2098, -2.5210,\n",
            "         -2.2316, -2.0985]], grad_fn=<LogSoftmaxBackward>)\n",
            "tensor(2.3110, grad_fn=<NllLossBackward>)\n"
          ],
          "name": "stdout"
        }
      ]
    },
    {
      "metadata": {
        "id": "4fF-u7rf9QtW",
        "colab_type": "text"
      },
      "cell_type": "markdown",
      "source": [
        "## Autograd\n",
        "\n",
        "Now that we know how to calculate a loss, how do we use it to perform backpropagation? Torch provides a module, `autograd`, for automatically calculating the gradients of tensors. We can use it to calculate the gradients of all our parameters with respect to the loss. Autograd works by keeping track of operations performed on tensors, then going backwards through those operations, calculating gradients along the way. To make sure PyTorch keeps track of operations on a tensor and calculates the gradients, you need to set `requires_grad = True` on a tensor. You can do this at creation with the `requires_grad` keyword, or at any time with `x.requires_grad_(True)`.\n",
        "\n",
        "You can turn off gradients for a block of code with the `torch.no_grad()` content:\n",
        "```python\n",
        "x = torch.zeros(1, requires_grad=True)\n",
        ">>> with torch.no_grad():\n",
        "...     y = x * 2\n",
        ">>> y.requires_grad\n",
        "False\n",
        "```\n",
        "\n",
        "Also, you can turn on or off gradients altogether with `torch.set_grad_enabled(True|False)`.\n",
        "\n",
        "The gradients are computed with respect to some variable `z` with `z.backward()`. This does a backward pass through the operations that created `z`."
      ]
    },
    {
      "metadata": {
        "id": "ik3RqvwJ9QtZ",
        "colab_type": "code",
        "colab": {
          "base_uri": "https://localhost:8080/",
          "height": 51
        },
        "outputId": "bb68673b-1433-4f69-b32f-df2d47d89d49"
      },
      "cell_type": "code",
      "source": [
        "x = torch.randn(2,2, requires_grad=True)\n",
        "print(x)"
      ],
      "execution_count": 25,
      "outputs": [
        {
          "output_type": "stream",
          "text": [
            "tensor([[-0.6042,  1.0199],\n",
            "        [ 1.2938,  0.6435]], requires_grad=True)\n"
          ],
          "name": "stdout"
        }
      ]
    },
    {
      "metadata": {
        "id": "afFB2aYA9Qte",
        "colab_type": "code",
        "colab": {
          "base_uri": "https://localhost:8080/",
          "height": 51
        },
        "outputId": "11a346e3-0119-40a8-cf90-229e3ca68801"
      },
      "cell_type": "code",
      "source": [
        "y = x**2\n",
        "print(y)"
      ],
      "execution_count": 26,
      "outputs": [
        {
          "output_type": "stream",
          "text": [
            "tensor([[0.3650, 1.0401],\n",
            "        [1.6739, 0.4141]], grad_fn=<PowBackward0>)\n"
          ],
          "name": "stdout"
        }
      ]
    },
    {
      "metadata": {
        "id": "YnufLLQQ9Qtl",
        "colab_type": "text"
      },
      "cell_type": "markdown",
      "source": [
        "Below we can see the operation that created `y`, a power operation `PowBackward0`."
      ]
    },
    {
      "metadata": {
        "id": "83VrHOgj9Qtp",
        "colab_type": "code",
        "colab": {
          "base_uri": "https://localhost:8080/",
          "height": 34
        },
        "outputId": "d28fd508-1714-4542-9e63-bb86bc6fa1d0"
      },
      "cell_type": "code",
      "source": [
        "## grad_fn shows the function that generated this variable\n",
        "print(y.grad_fn)"
      ],
      "execution_count": 27,
      "outputs": [
        {
          "output_type": "stream",
          "text": [
            "<PowBackward0 object at 0x7fc225f5a8d0>\n"
          ],
          "name": "stdout"
        }
      ]
    },
    {
      "metadata": {
        "id": "1EY02qEp9Qtx",
        "colab_type": "text"
      },
      "cell_type": "markdown",
      "source": [
        "The autgrad module keeps track of these operations and knows how to calculate the gradient for each one. In this way, it's able to calculate the gradients for a chain of operations, with respect to any one tensor. Let's reduce the tensor `y` to a scalar value, the mean."
      ]
    },
    {
      "metadata": {
        "id": "8L74qyZZ9Qt7",
        "colab_type": "code",
        "colab": {
          "base_uri": "https://localhost:8080/",
          "height": 34
        },
        "outputId": "079cc9eb-527a-45a7-b6b1-c8b7b7c3a479"
      },
      "cell_type": "code",
      "source": [
        "z = y.mean()\n",
        "print(z)"
      ],
      "execution_count": 28,
      "outputs": [
        {
          "output_type": "stream",
          "text": [
            "tensor(0.8733, grad_fn=<MeanBackward1>)\n"
          ],
          "name": "stdout"
        }
      ]
    },
    {
      "metadata": {
        "id": "4wvISBo69QuC",
        "colab_type": "text"
      },
      "cell_type": "markdown",
      "source": [
        "You can check the gradients for `x` and `y` but they are empty currently."
      ]
    },
    {
      "metadata": {
        "id": "VMQGYbh39QuE",
        "colab_type": "code",
        "colab": {
          "base_uri": "https://localhost:8080/",
          "height": 34
        },
        "outputId": "20e037be-c259-4acc-b387-4d08ff2472c8"
      },
      "cell_type": "code",
      "source": [
        "print(x.grad)"
      ],
      "execution_count": 29,
      "outputs": [
        {
          "output_type": "stream",
          "text": [
            "None\n"
          ],
          "name": "stdout"
        }
      ]
    },
    {
      "metadata": {
        "id": "HBzetG319QuL",
        "colab_type": "text"
      },
      "cell_type": "markdown",
      "source": [
        "To calculate the gradients, you need to run the `.backward` method on a Variable, `z` for example. This will calculate the gradient for `z` with respect to `x`\n",
        "\n",
        "$$\n",
        "\\frac{\\partial z}{\\partial x} = \\frac{\\partial}{\\partial x}\\left[\\frac{1}{n}\\sum_i^n x_i^2\\right] = \\frac{x}{2}\n",
        "$$"
      ]
    },
    {
      "metadata": {
        "id": "4x_1CW6c9QuN",
        "colab_type": "code",
        "colab": {
          "base_uri": "https://localhost:8080/",
          "height": 119
        },
        "outputId": "873dd4f3-57de-4779-e30a-5c029b17c55a"
      },
      "cell_type": "code",
      "source": [
        "z.backward()\n",
        "print(x)\n",
        "print(x.grad)\n",
        "print(x/2)"
      ],
      "execution_count": 30,
      "outputs": [
        {
          "output_type": "stream",
          "text": [
            "tensor([[-0.6042,  1.0199],\n",
            "        [ 1.2938,  0.6435]], requires_grad=True)\n",
            "tensor([[-0.3021,  0.5099],\n",
            "        [ 0.6469,  0.3218]])\n",
            "tensor([[-0.3021,  0.5099],\n",
            "        [ 0.6469,  0.3218]], grad_fn=<DivBackward0>)\n"
          ],
          "name": "stdout"
        }
      ]
    },
    {
      "metadata": {
        "id": "OtoGFl6H9QuS",
        "colab_type": "text"
      },
      "cell_type": "markdown",
      "source": [
        "These gradients calculations are particularly useful for neural networks. For training we need the gradients of the weights with respect to the cost. With PyTorch, we run data forward through the network to calculate the loss, then, go backwards to calculate the gradients with respect to the loss. Once we have the gradients we can make a gradient descent step. "
      ]
    },
    {
      "metadata": {
        "id": "wwACd7Fv9QuX",
        "colab_type": "text"
      },
      "cell_type": "markdown",
      "source": [
        "## Loss and Autograd together\n",
        "\n",
        "When we create a network with PyTorch, all of the parameters are initialized with `requires_grad = True`. This means that when we calculate the loss and call `loss.backward()`, the gradients for the parameters are calculated. These gradients are used to update the weights with gradient descent. Below you can see an example of calculating the gradients using a backwards pass."
      ]
    },
    {
      "metadata": {
        "id": "ebRKv29X9Qua",
        "colab_type": "code",
        "colab": {}
      },
      "cell_type": "code",
      "source": [
        "# Build a feed-forward network\n",
        "model = nn.Sequential(nn.Linear(784, 128),\n",
        "                      nn.ReLU(),\n",
        "                      nn.Linear(128, 64),\n",
        "                      nn.ReLU(),\n",
        "                      nn.Linear(64, 10),\n",
        "                      nn.LogSoftmax(dim=1))\n",
        "\n",
        "criterion = nn.NLLLoss()\n",
        "images, labels = next(iter(trainloader))\n",
        "images = images.view(images.shape[0], -1)\n",
        "\n",
        "logits = model(images)\n",
        "loss = criterion(logits, labels)"
      ],
      "execution_count": 0,
      "outputs": []
    },
    {
      "metadata": {
        "id": "Aj06opbj9Quh",
        "colab_type": "code",
        "colab": {
          "base_uri": "https://localhost:8080/",
          "height": 187
        },
        "outputId": "7facc719-9e04-4ccb-be58-d96cdf34619b"
      },
      "cell_type": "code",
      "source": [
        "print('Before backward pass: \\n', model[0].weight.grad)\n",
        "\n",
        "loss.backward()\n",
        "\n",
        "print('After backward pass: \\n', model[0].weight.grad)"
      ],
      "execution_count": 32,
      "outputs": [
        {
          "output_type": "stream",
          "text": [
            "Before backward pass: \n",
            " None\n",
            "After backward pass: \n",
            " tensor([[0.0007, 0.0007, 0.0007,  ..., 0.0007, 0.0007, 0.0007],\n",
            "        [0.0003, 0.0003, 0.0003,  ..., 0.0003, 0.0003, 0.0003],\n",
            "        [0.0000, 0.0000, 0.0000,  ..., 0.0000, 0.0000, 0.0000],\n",
            "        ...,\n",
            "        [0.0000, 0.0000, 0.0000,  ..., 0.0000, 0.0000, 0.0000],\n",
            "        [0.0000, 0.0000, 0.0000,  ..., 0.0000, 0.0000, 0.0000],\n",
            "        [0.0020, 0.0020, 0.0020,  ..., 0.0020, 0.0020, 0.0020]])\n"
          ],
          "name": "stdout"
        }
      ]
    },
    {
      "metadata": {
        "id": "ehe-3wZD9Quv",
        "colab_type": "text"
      },
      "cell_type": "markdown",
      "source": [
        "## Training the network!\n",
        "\n",
        "There's one last piece we need to start training, an optimizer that we'll use to update the weights with the gradients. We get these from PyTorch's [`optim` package](https://pytorch.org/docs/stable/optim.html). For example we can use stochastic gradient descent with `optim.SGD`. You can see how to define an optimizer below."
      ]
    },
    {
      "metadata": {
        "id": "DIEdN_f69Qux",
        "colab_type": "code",
        "colab": {}
      },
      "cell_type": "code",
      "source": [
        "from torch import optim\n",
        "\n",
        "# Optimizers require the parameters to optimize and a learning rate\n",
        "optimizer = optim.SGD(model.parameters(), lr=0.01)"
      ],
      "execution_count": 0,
      "outputs": []
    },
    {
      "metadata": {
        "id": "T1d3LamR9Qu5",
        "colab_type": "text"
      },
      "cell_type": "markdown",
      "source": [
        "Now we know how to use all the individual parts so it's time to see how they work together. Let's consider just one learning step before looping through all the data. The general process with PyTorch:\n",
        "\n",
        "* Make a forward pass through the network \n",
        "* Use the network output to calculate the loss\n",
        "* Perform a backward pass through the network with `loss.backward()` to calculate the gradients\n",
        "* Take a step with the optimizer to update the weights\n",
        "\n",
        "Below I'll go through one training step and print out the weights and gradients so you can see how it changes. Note that I have a line of code `optimizer.zero_grad()`. When you do multiple backwards passes with the same parameters, the gradients are accumulated. This means that you need to zero the gradients on each training pass or you'll retain gradients from previous training batches."
      ]
    },
    {
      "metadata": {
        "id": "RrxBS43j9Qu_",
        "colab_type": "code",
        "colab": {
          "base_uri": "https://localhost:8080/",
          "height": 289
        },
        "outputId": "473df03d-0a8e-4e15-e51f-8778c4c93297"
      },
      "cell_type": "code",
      "source": [
        "print('Initial weights - ', model[0].weight)\n",
        "\n",
        "images, labels = next(iter(trainloader))\n",
        "images.resize_(64, 784)\n",
        "\n",
        "# Clear the gradients, do this because gradients are accumulated\n",
        "optimizer.zero_grad()\n",
        "\n",
        "# Forward pass, then backward pass, then update weights\n",
        "output = model.forward(images)\n",
        "loss = criterion(output, labels)\n",
        "loss.backward()\n",
        "print('Gradient -', model[0].weight.grad)"
      ],
      "execution_count": 34,
      "outputs": [
        {
          "output_type": "stream",
          "text": [
            "Initial weights -  Parameter containing:\n",
            "tensor([[ 0.0353,  0.0102,  0.0243,  ..., -0.0223, -0.0176, -0.0310],\n",
            "        [-0.0300, -0.0224,  0.0211,  ...,  0.0288,  0.0154,  0.0146],\n",
            "        [-0.0339,  0.0218,  0.0206,  ...,  0.0002, -0.0093,  0.0284],\n",
            "        ...,\n",
            "        [ 0.0334, -0.0020,  0.0094,  ..., -0.0266,  0.0268,  0.0069],\n",
            "        [-0.0284, -0.0126,  0.0174,  ..., -0.0234, -0.0315, -0.0213],\n",
            "        [-0.0040, -0.0352,  0.0327,  ..., -0.0238, -0.0318,  0.0061]],\n",
            "       requires_grad=True)\n",
            "Gradient - tensor([[0.0005, 0.0005, 0.0005,  ..., 0.0005, 0.0005, 0.0005],\n",
            "        [0.0005, 0.0005, 0.0005,  ..., 0.0005, 0.0005, 0.0005],\n",
            "        [0.0000, 0.0000, 0.0000,  ..., 0.0000, 0.0000, 0.0000],\n",
            "        ...,\n",
            "        [0.0000, 0.0000, 0.0000,  ..., 0.0000, 0.0000, 0.0000],\n",
            "        [0.0000, 0.0000, 0.0000,  ..., 0.0000, 0.0000, 0.0000],\n",
            "        [0.0011, 0.0011, 0.0011,  ..., 0.0011, 0.0011, 0.0011]])\n"
          ],
          "name": "stdout"
        }
      ]
    },
    {
      "metadata": {
        "id": "UVoIAMDq9QvG",
        "colab_type": "code",
        "colab": {
          "base_uri": "https://localhost:8080/",
          "height": 170
        },
        "outputId": "a195d6d6-4eda-4a81-b97e-167231722163"
      },
      "cell_type": "code",
      "source": [
        "# Take an update step and few the new weights\n",
        "optimizer.step()\n",
        "print('Updated weights - ', model[0].weight)"
      ],
      "execution_count": 35,
      "outputs": [
        {
          "output_type": "stream",
          "text": [
            "Updated weights -  Parameter containing:\n",
            "tensor([[ 0.0353,  0.0102,  0.0243,  ..., -0.0223, -0.0176, -0.0310],\n",
            "        [-0.0300, -0.0224,  0.0211,  ...,  0.0288,  0.0154,  0.0146],\n",
            "        [-0.0339,  0.0218,  0.0206,  ...,  0.0002, -0.0093,  0.0284],\n",
            "        ...,\n",
            "        [ 0.0334, -0.0020,  0.0094,  ..., -0.0266,  0.0268,  0.0069],\n",
            "        [-0.0284, -0.0126,  0.0174,  ..., -0.0234, -0.0315, -0.0213],\n",
            "        [-0.0040, -0.0352,  0.0327,  ..., -0.0238, -0.0319,  0.0061]],\n",
            "       requires_grad=True)\n"
          ],
          "name": "stdout"
        }
      ]
    },
    {
      "metadata": {
        "id": "R5Xvp4lX9QvR",
        "colab_type": "text"
      },
      "cell_type": "markdown",
      "source": [
        "### Training for real\n",
        "\n",
        "Now we'll put this algorithm into a loop so we can go through all the images. Some nomenclature, one pass through the entire dataset is called an *epoch*. So here we're going to loop through `trainloader` to get our training batches. For each batch, we'll doing a training pass where we calculate the loss, do a backwards pass, and update the weights.\n",
        "\n",
        ">**Exercise:** Implement the training pass for our network. If you implemented it correctly, you should see the training loss drop with each epoch."
      ]
    },
    {
      "metadata": {
        "id": "88GTvLhE9QvU",
        "colab_type": "code",
        "colab": {}
      },
      "cell_type": "code",
      "source": [
        "## Your solution here\n",
        "\n",
        "model = nn.Sequential(nn.Linear(784, 128),\n",
        "                      nn.ReLU(),\n",
        "                      nn.Linear(128, 64),\n",
        "                      nn.ReLU(),\n",
        "                      nn.Linear(64, 10),\n",
        "                      nn.LogSoftmax(dim=1))\n",
        "\n",
        "criterion = nn.NLLLoss()\n",
        "optimizer = optim.SGD(model.parameters(), lr=0.003)\n",
        "\n",
        "epochs = 5\n",
        "for e in range(epochs):\n",
        "    running_loss = 0\n",
        "    for images, labels in trainloader:\n",
        "        # Flatten MNIST images into a 784 long vector\n",
        "        images = images.view(images.shape[0], -1)\n",
        "    \n",
        "        # TODO: Training pass\n",
        "        \n",
        "        loss = \n",
        "        \n",
        "        running_loss += loss.item()\n",
        "    else:\n",
        "        print(f\"Training loss: {running_loss/len(trainloader)}\")"
      ],
      "execution_count": 0,
      "outputs": []
    },
    {
      "metadata": {
        "id": "r-qOGXHW9QvY",
        "colab_type": "text"
      },
      "cell_type": "markdown",
      "source": [
        "With the network trained, we can check out it's predictions."
      ]
    },
    {
      "metadata": {
        "id": "zr2eqgPi9Qva",
        "colab_type": "code",
        "colab": {}
      },
      "cell_type": "code",
      "source": [
        "%matplotlib inline\n",
        "import helper\n",
        "\n",
        "images, labels = next(iter(trainloader))\n",
        "\n",
        "img = images[0].view(1, 784)\n",
        "# Turn off gradients to speed up this part\n",
        "with torch.no_grad():\n",
        "    logits = model.forward(img)\n",
        "\n",
        "# Output of the network are logits, need to take softmax for probabilities\n",
        "ps = F.softmax(logits, dim=1)\n",
        "helper.view_classify(img.view(1, 28, 28), ps)"
      ],
      "execution_count": 0,
      "outputs": []
    },
    {
      "metadata": {
        "id": "q4OVgp4Y9Qvg",
        "colab_type": "text"
      },
      "cell_type": "markdown",
      "source": [
        "Now our network is brilliant. It can accurately predict the digits in our images. Next up you'll write the code for training a neural network on a more complex dataset."
      ]
    }
  ]
}